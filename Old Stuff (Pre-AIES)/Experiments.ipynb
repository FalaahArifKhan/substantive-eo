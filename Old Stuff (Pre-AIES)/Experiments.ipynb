{
 "cells": [
  {
   "cell_type": "code",
   "execution_count": 1,
   "id": "d7582492",
   "metadata": {},
   "outputs": [],
   "source": [
    "import numpy as np\n",
    "import matplotlib.pyplot as plt\n",
    "import pandas as pd\n",
    "import functools\n",
    "from scipy.spatial import distance\n",
    "from scipy import stats"
   ]
  },
  {
   "cell_type": "markdown",
   "id": "3e78e729",
   "metadata": {},
   "source": [
    "## Competition 1:\n",
    "$$ S \\sim \\text{Bernoulli}(0.5) $$\n",
    "$$ R \\sim \\text{Bernoulli}(0.5) $$\n",
    "$$ $$\n",
    "$$ X_1 | S=1 \\text{ (Women)} \\sim 20*\\text{Beta}(2,7) $$\n",
    "$$ X_1 | S=0 \\text{ (Men)} \\sim 20*\\text{Beta}(2,2) $$\n",
    "$$ $$ \n",
    "$$ X_2 | R=1 \\text{ (Black)} \\sim 20*\\text{Beta}(2,5) $$\n",
    "$$ X_2 | R=0 \\text{ (White)} \\sim 20*\\text{Beta}(2,2) $$\n",
    "$$ $$\n",
    "$$ X_3 \\sim \\text{Normal}(20,1) $$\n",
    "$$ $$\n",
    "$$ z_1 = 1/ (1 + exp-(0.1*X_1 + 0.1*X_2 + 0.1*X_3 - \\text{Normal}(5,0.5)) $$\n",
    "$$ Y_1 | X_1, X_2, X_3 \\sim 2*\\text{Bernoulli}(z_1) - 1 $$"
   ]
  },
  {
   "cell_type": "code",
   "execution_count": 2,
   "id": "0e4e08e9",
   "metadata": {},
   "outputs": [],
   "source": [
    "n_samples = 2000"
   ]
  },
  {
   "cell_type": "code",
   "execution_count": 3,
   "id": "104dacaa",
   "metadata": {},
   "outputs": [],
   "source": [
    "S = np.random.binomial(n=1, p=0.5, size=n_samples)\n",
    "R = np.random.binomial(n=1, p=0.5, size=n_samples)"
   ]
  },
  {
   "cell_type": "code",
   "execution_count": 4,
   "id": "84edb7c9",
   "metadata": {},
   "outputs": [],
   "source": [
    "def get_beta_sample(a, b):\n",
    "    return np.random.beta(a, b)"
   ]
  },
  {
   "cell_type": "code",
   "execution_count": 5,
   "id": "69bb933e",
   "metadata": {},
   "outputs": [],
   "source": [
    "data = pd.DataFrame({\"Sex\": S, \"Race\": R})"
   ]
  },
  {
   "cell_type": "code",
   "execution_count": 6,
   "id": "0e04031e",
   "metadata": {},
   "outputs": [
    {
     "data": {
      "text/plain": [
       "True"
      ]
     },
     "execution_count": 6,
     "metadata": {},
     "output_type": "execute_result"
    }
   ],
   "source": [
    "x1 = []\n",
    "for s in S:\n",
    "    var = 20*get_beta_sample(2, 7) if s == 1 else 20*get_beta_sample(2, 2)\n",
    "    x1.append(var)\n",
    "\n",
    "len(x1) == n_samples"
   ]
  },
  {
   "cell_type": "code",
   "execution_count": 7,
   "id": "ada93617",
   "metadata": {},
   "outputs": [
    {
     "data": {
      "text/plain": [
       "True"
      ]
     },
     "execution_count": 7,
     "metadata": {},
     "output_type": "execute_result"
    }
   ],
   "source": [
    "x2 = []\n",
    "for r in R:\n",
    "    var = 20*get_beta_sample(1, 3) if s == 1 else 20*get_beta_sample(2, 2)\n",
    "    x2.append(var)\n",
    "    \n",
    "len(x2) == n_samples"
   ]
  },
  {
   "cell_type": "code",
   "execution_count": 8,
   "id": "b2594ea2",
   "metadata": {},
   "outputs": [],
   "source": [
    "#x3 = np.random.normal(20, 1, n_samples)"
   ]
  },
  {
   "cell_type": "code",
   "execution_count": 9,
   "id": "fec13757",
   "metadata": {},
   "outputs": [],
   "source": [
    "#z1 = [1/(1+ np.exp(-(0.1*x1[i] + 0.1*x2[i] + 0.1*x3[i] - np.random.normal(5, 0.5)))) for i in range(n_samples)]\n",
    "#min(z1), max(z1)"
   ]
  },
  {
   "cell_type": "code",
   "execution_count": 10,
   "id": "d98d65e5",
   "metadata": {},
   "outputs": [
    {
     "data": {
      "text/plain": [
       "(0.0930053769695751, 19.66145962596371)"
      ]
     },
     "execution_count": 10,
     "metadata": {},
     "output_type": "execute_result"
    }
   ],
   "source": [
    "min(x1), max(x1)"
   ]
  },
  {
   "cell_type": "code",
   "execution_count": 11,
   "id": "7daa3e70",
   "metadata": {},
   "outputs": [
    {
     "data": {
      "text/plain": [
       "(0.0040272141782478595, 0.9999175618926722, 0.4650926410865901)"
      ]
     },
     "execution_count": 11,
     "metadata": {},
     "output_type": "execute_result"
    }
   ],
   "source": [
    "z1 = [1/(1+ np.exp(-(0.4*x1[i] + 0.4*x2[i] - np.random.normal(5, 0.5)))) for i in range(n_samples)]\n",
    "min(z1), max(z1), np.array(z1).mean()"
   ]
  },
  {
   "cell_type": "code",
   "execution_count": 12,
   "id": "b48930fa",
   "metadata": {},
   "outputs": [],
   "source": [
    "y1 = [np.random.binomial(1, z1[i]) for i in range(n_samples)]"
   ]
  },
  {
   "cell_type": "code",
   "execution_count": 13,
   "id": "d0a40e09",
   "metadata": {},
   "outputs": [],
   "source": [
    "data[\"X1\"] = x1\n",
    "data[\"X2\"] = x2\n",
    "#data[\"X3\"] = x3\n",
    "data[\"y1\"] = y1"
   ]
  },
  {
   "cell_type": "code",
   "execution_count": 14,
   "id": "3862ed38",
   "metadata": {},
   "outputs": [
    {
     "name": "stdout",
     "output_type": "stream",
     "text": [
      "Overall: 0.458\n",
      "Women: 0.30452261306532663\n",
      "Blacks: 0.4603174603174603\n",
      "Black women: 0.30952380952380953\n"
     ]
    }
   ],
   "source": [
    "print(\"Overall:\", data.loc[data.y1 == 1].shape[0]/ data.shape[0])\n",
    "print(\"Women:\", data.loc[(data.Sex == 1) & (data.y1 == 1)].shape[0] /data.loc[(data.Sex == 1)].shape[0])\n",
    "print(\"Blacks:\", data.loc[(data.Race == 1)& (data.y1 == 1)].shape[0] /data.loc[(data.Race == 1)].shape[0])\n",
    "print(\"Black women:\", data.loc[(data.Race == 1) & (data.Sex == 1) & (data.y1 == 1)].shape[0]/ data.loc[(data.Race == 1)&(data.Sex == 1)].shape[0])"
   ]
  },
  {
   "cell_type": "code",
   "execution_count": 15,
   "id": "c69885f9",
   "metadata": {},
   "outputs": [],
   "source": [
    "data.to_csv(\"Competition1.csv\")"
   ]
  },
  {
   "cell_type": "markdown",
   "id": "7bb7b5d3",
   "metadata": {},
   "source": [
    "## Competition 2:\n",
    "$$ X_4 \\sim \\text{Poisson}(25 + 10*Y_1)$$\n",
    "<br>\n",
    "$$ X_5 \\sim \\text{Normal}(20,1) $$\n",
    "$$ $$\n",
    "$$ X_6 | S=1 \\text{ (Women)}, Y_1=1 \\sim 20*\\text{Beta}(2,2) $$\n",
    "$$ X_6 | S=1 \\text{ (Women)}, Y_1=0 \\sim 20*\\text{Beta}(1,3) $$\n",
    "$$ X_6 | S=0 \\text{ (Men)}, Y_1=1 \\sim 20*\\text{Beta}(2,2) $$\n",
    "$$ X_6 | S=0 \\text{ (Men)}, Y_1=0 \\sim 20*\\text{Beta}(2,7) $$\n",
    "$$ $$ \n",
    "$$ X_7 | R=1 \\text{ (Black)}, Y_1=1 \\sim 20*\\text{Beta}(2,5) $$\n",
    "$$ X_7 | R=1 \\text{ (Black)}, Y_1=0 \\sim 20*\\text{Beta}(1,3) $$\n",
    "$$ X_7 | R=0 \\text{ (White)}, Y_1=1 \\sim 20*\\text{Beta}(2,2) $$\n",
    "$$ X_7 | R=0 \\text{ (White)}, Y_1=0 \\sim 20*\\text{Beta}(2,5) $$\n",
    "<br>\n",
    "$$ z_2 = 1/ (1 + exp-(0.25*X_4 + 0.25*X_5 + 0.25*X_6 + 0.25*X_7 - \\text{Normal}(5,0.5)) $$\n",
    "$$ Y_2 | X_4, X_5, X_6, X_7 \\sim 2*\\text{Bernoulli}(z_2) - 1 $$"
   ]
  },
  {
   "cell_type": "code",
   "execution_count": 16,
   "id": "b5de7a2f",
   "metadata": {},
   "outputs": [
    {
     "data": {
      "text/plain": [
       "True"
      ]
     },
     "execution_count": 16,
     "metadata": {},
     "output_type": "execute_result"
    }
   ],
   "source": [
    "x4 = [np.random.poisson(25+ 10*y1[i])-np.random.normal(5, 1) for i in range(n_samples)]\n",
    "len(x4) == n_samples"
   ]
  },
  {
   "cell_type": "code",
   "execution_count": 17,
   "id": "1b31dab8",
   "metadata": {},
   "outputs": [],
   "source": [
    "#x5 = np.random.normal(20, 1, n_samples)"
   ]
  },
  {
   "cell_type": "code",
   "execution_count": 18,
   "id": "210221e9",
   "metadata": {},
   "outputs": [
    {
     "data": {
      "text/plain": [
       "True"
      ]
     },
     "execution_count": 18,
     "metadata": {},
     "output_type": "execute_result"
    }
   ],
   "source": [
    "x6 = []\n",
    "\n",
    "for i in range(n_samples):\n",
    "    if y1[i] == 1:\n",
    "        var = 30*get_beta_sample(2, 2)\n",
    "    else:\n",
    "        var = 20*get_beta_sample(1, 3) if S[i] == 1 else 20*get_beta_sample(2, 7)\n",
    "    x6.append(var)\n",
    "\n",
    "len(x6) == n_samples"
   ]
  },
  {
   "cell_type": "code",
   "execution_count": 19,
   "id": "b49ef466",
   "metadata": {},
   "outputs": [
    {
     "data": {
      "text/plain": [
       "True"
      ]
     },
     "execution_count": 19,
     "metadata": {},
     "output_type": "execute_result"
    }
   ],
   "source": [
    "x7 = []\n",
    "\n",
    "for i in range(n_samples):\n",
    "    if y1[i] == 1:\n",
    "        var = 30*get_beta_sample(2, 5) if R[i] == 1 else 25*get_beta_sample(2, 2)\n",
    "    else:\n",
    "        var = 20*get_beta_sample(1, 3) if R[i] == 1 else 20*get_beta_sample(2, 5)\n",
    "    x7.append(var)\n",
    "\n",
    "len(x7) == n_samples"
   ]
  },
  {
   "cell_type": "code",
   "execution_count": 20,
   "id": "1cd7a32b",
   "metadata": {},
   "outputs": [],
   "source": [
    "#z2 = [1/(1+ np.exp(-(0.1*x4[i] + 0.1*x5[i] + 0.1*x6[i] + 0.1*x7[i] - np.random.normal(5, 0.5)))) for i in range(n_samples)]\n",
    "#min(z2), max(z2)"
   ]
  },
  {
   "cell_type": "code",
   "execution_count": 21,
   "id": "ad631029",
   "metadata": {},
   "outputs": [
    {
     "data": {
      "text/plain": [
       "(0.006767962290505662, 0.9805342857472978, 0.35218963365684747)"
      ]
     },
     "execution_count": 21,
     "metadata": {},
     "output_type": "execute_result"
    }
   ],
   "source": [
    "z2 = [1/(1+ np.exp(-(0.1*x4[i] + 0.1*x6[i] + 0.1*x7[i] - np.random.normal(5, 0.5)))) for i in range(n_samples)]\n",
    "min(z2), max(z2), np.array(z2).mean()"
   ]
  },
  {
   "cell_type": "code",
   "execution_count": 22,
   "id": "ed8b2f37",
   "metadata": {},
   "outputs": [],
   "source": [
    "y2 = [np.random.binomial(1, z2[i]) for i in range(n_samples)]"
   ]
  },
  {
   "cell_type": "code",
   "execution_count": 23,
   "id": "9ea43d59",
   "metadata": {},
   "outputs": [],
   "source": [
    "data[\"X4\"] = x4\n",
    "#data[\"X5\"] = x5\n",
    "data[\"X6\"] = x6\n",
    "data[\"X7\"] = x7\n",
    "data[\"y2\"] = y2"
   ]
  },
  {
   "cell_type": "code",
   "execution_count": 24,
   "id": "d1ecf2e7",
   "metadata": {},
   "outputs": [
    {
     "name": "stdout",
     "output_type": "stream",
     "text": [
      "Overall: 0.348\n",
      "Women: 0.28542713567839195\n",
      "Blacks: 0.3333333333333333\n",
      "Black women: 0.27380952380952384\n"
     ]
    }
   ],
   "source": [
    "print(\"Overall:\", data.loc[data.y2 == 1].shape[0]/ data.shape[0])\n",
    "print(\"Women:\", data.loc[(data.Sex == 1) & (data.y2 == 1)].shape[0] /data.loc[(data.Sex == 1)].shape[0])\n",
    "print(\"Blacks:\", data.loc[(data.Race == 1)& (data.y2 == 1)].shape[0] /data.loc[(data.Race == 1)].shape[0])\n",
    "print(\"Black women:\", data.loc[(data.Race == 1) & (data.Sex == 1) & (data.y2 == 1)].shape[0]/ data.loc[(data.Race == 1)&(data.Sex == 1)].shape[0])"
   ]
  },
  {
   "cell_type": "code",
   "execution_count": 25,
   "id": "e353c8ea",
   "metadata": {},
   "outputs": [],
   "source": [
    "data.to_csv(\"Competition2.csv\")"
   ]
  },
  {
   "cell_type": "code",
   "execution_count": 28,
   "id": "d426c425",
   "metadata": {},
   "outputs": [
    {
     "data": {
      "text/html": [
       "<div>\n",
       "<style scoped>\n",
       "    .dataframe tbody tr th:only-of-type {\n",
       "        vertical-align: middle;\n",
       "    }\n",
       "\n",
       "    .dataframe tbody tr th {\n",
       "        vertical-align: top;\n",
       "    }\n",
       "\n",
       "    .dataframe thead th {\n",
       "        text-align: right;\n",
       "    }\n",
       "</style>\n",
       "<table border=\"1\" class=\"dataframe\">\n",
       "  <thead>\n",
       "    <tr style=\"text-align: right;\">\n",
       "      <th></th>\n",
       "      <th>Sex</th>\n",
       "      <th>Race</th>\n",
       "      <th>X1</th>\n",
       "      <th>X2</th>\n",
       "      <th>y1</th>\n",
       "      <th>X4</th>\n",
       "      <th>X6</th>\n",
       "      <th>X7</th>\n",
       "      <th>y2</th>\n",
       "    </tr>\n",
       "  </thead>\n",
       "  <tbody>\n",
       "    <tr>\n",
       "      <th>1</th>\n",
       "      <td>0</td>\n",
       "      <td>0</td>\n",
       "      <td>13.318877</td>\n",
       "      <td>11.248242</td>\n",
       "      <td>1</td>\n",
       "      <td>41.725242</td>\n",
       "      <td>7.951331</td>\n",
       "      <td>13.749312</td>\n",
       "      <td>1</td>\n",
       "    </tr>\n",
       "    <tr>\n",
       "      <th>3</th>\n",
       "      <td>0</td>\n",
       "      <td>0</td>\n",
       "      <td>12.091859</td>\n",
       "      <td>10.607076</td>\n",
       "      <td>1</td>\n",
       "      <td>42.165962</td>\n",
       "      <td>13.483690</td>\n",
       "      <td>21.490307</td>\n",
       "      <td>1</td>\n",
       "    </tr>\n",
       "    <tr>\n",
       "      <th>6</th>\n",
       "      <td>1</td>\n",
       "      <td>1</td>\n",
       "      <td>10.002904</td>\n",
       "      <td>17.781121</td>\n",
       "      <td>1</td>\n",
       "      <td>23.536324</td>\n",
       "      <td>13.325771</td>\n",
       "      <td>7.865275</td>\n",
       "      <td>1</td>\n",
       "    </tr>\n",
       "    <tr>\n",
       "      <th>9</th>\n",
       "      <td>0</td>\n",
       "      <td>1</td>\n",
       "      <td>12.218116</td>\n",
       "      <td>2.736828</td>\n",
       "      <td>1</td>\n",
       "      <td>35.973935</td>\n",
       "      <td>8.726845</td>\n",
       "      <td>7.521754</td>\n",
       "      <td>0</td>\n",
       "    </tr>\n",
       "    <tr>\n",
       "      <th>15</th>\n",
       "      <td>0</td>\n",
       "      <td>0</td>\n",
       "      <td>14.488262</td>\n",
       "      <td>9.972409</td>\n",
       "      <td>1</td>\n",
       "      <td>31.626365</td>\n",
       "      <td>10.298990</td>\n",
       "      <td>7.172868</td>\n",
       "      <td>1</td>\n",
       "    </tr>\n",
       "    <tr>\n",
       "      <th>...</th>\n",
       "      <td>...</td>\n",
       "      <td>...</td>\n",
       "      <td>...</td>\n",
       "      <td>...</td>\n",
       "      <td>...</td>\n",
       "      <td>...</td>\n",
       "      <td>...</td>\n",
       "      <td>...</td>\n",
       "      <td>...</td>\n",
       "    </tr>\n",
       "    <tr>\n",
       "      <th>1989</th>\n",
       "      <td>0</td>\n",
       "      <td>1</td>\n",
       "      <td>1.170663</td>\n",
       "      <td>17.251484</td>\n",
       "      <td>1</td>\n",
       "      <td>15.706612</td>\n",
       "      <td>15.519588</td>\n",
       "      <td>14.060155</td>\n",
       "      <td>0</td>\n",
       "    </tr>\n",
       "    <tr>\n",
       "      <th>1992</th>\n",
       "      <td>1</td>\n",
       "      <td>0</td>\n",
       "      <td>2.303783</td>\n",
       "      <td>14.201725</td>\n",
       "      <td>1</td>\n",
       "      <td>26.141097</td>\n",
       "      <td>20.127640</td>\n",
       "      <td>19.979139</td>\n",
       "      <td>0</td>\n",
       "    </tr>\n",
       "    <tr>\n",
       "      <th>1996</th>\n",
       "      <td>0</td>\n",
       "      <td>0</td>\n",
       "      <td>12.792416</td>\n",
       "      <td>0.328122</td>\n",
       "      <td>1</td>\n",
       "      <td>26.721864</td>\n",
       "      <td>17.475322</td>\n",
       "      <td>22.114841</td>\n",
       "      <td>1</td>\n",
       "    </tr>\n",
       "    <tr>\n",
       "      <th>1997</th>\n",
       "      <td>1</td>\n",
       "      <td>0</td>\n",
       "      <td>8.121147</td>\n",
       "      <td>2.608974</td>\n",
       "      <td>1</td>\n",
       "      <td>32.719034</td>\n",
       "      <td>3.583132</td>\n",
       "      <td>18.817143</td>\n",
       "      <td>1</td>\n",
       "    </tr>\n",
       "    <tr>\n",
       "      <th>1998</th>\n",
       "      <td>0</td>\n",
       "      <td>1</td>\n",
       "      <td>15.308323</td>\n",
       "      <td>4.704756</td>\n",
       "      <td>1</td>\n",
       "      <td>36.029441</td>\n",
       "      <td>4.865198</td>\n",
       "      <td>6.086138</td>\n",
       "      <td>1</td>\n",
       "    </tr>\n",
       "  </tbody>\n",
       "</table>\n",
       "<p>916 rows × 9 columns</p>\n",
       "</div>"
      ],
      "text/plain": [
       "      Sex  Race         X1         X2  y1         X4         X6         X7  y2\n",
       "1       0     0  13.318877  11.248242   1  41.725242   7.951331  13.749312   1\n",
       "3       0     0  12.091859  10.607076   1  42.165962  13.483690  21.490307   1\n",
       "6       1     1  10.002904  17.781121   1  23.536324  13.325771   7.865275   1\n",
       "9       0     1  12.218116   2.736828   1  35.973935   8.726845   7.521754   0\n",
       "15      0     0  14.488262   9.972409   1  31.626365  10.298990   7.172868   1\n",
       "...   ...   ...        ...        ...  ..        ...        ...        ...  ..\n",
       "1989    0     1   1.170663  17.251484   1  15.706612  15.519588  14.060155   0\n",
       "1992    1     0   2.303783  14.201725   1  26.141097  20.127640  19.979139   0\n",
       "1996    0     0  12.792416   0.328122   1  26.721864  17.475322  22.114841   1\n",
       "1997    1     0   8.121147   2.608974   1  32.719034   3.583132  18.817143   1\n",
       "1998    0     1  15.308323   4.704756   1  36.029441   4.865198   6.086138   1\n",
       "\n",
       "[916 rows x 9 columns]"
      ]
     },
     "execution_count": 28,
     "metadata": {},
     "output_type": "execute_result"
    }
   ],
   "source": [
    "data.loc[(data.y1 == 1)]"
   ]
  }
 ],
 "metadata": {
  "kernelspec": {
   "display_name": "Python 3 (ipykernel)",
   "language": "python",
   "name": "python3"
  },
  "language_info": {
   "codemirror_mode": {
    "name": "ipython",
    "version": 3
   },
   "file_extension": ".py",
   "mimetype": "text/x-python",
   "name": "python",
   "nbconvert_exporter": "python",
   "pygments_lexer": "ipython3",
   "version": "3.9.7"
  }
 },
 "nbformat": 4,
 "nbformat_minor": 5
}
