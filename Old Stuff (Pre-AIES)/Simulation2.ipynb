{
 "cells": [
  {
   "cell_type": "code",
   "execution_count": 1,
   "id": "1540edc0",
   "metadata": {},
   "outputs": [],
   "source": [
    "%reload_ext autoreload\n",
    "%autoreload 2\n",
    "\n",
    "import pandas as pd\n",
    "import numpy as np\n",
    "from scipy.optimize import minimize\n",
    "import matplotlib.pyplot as plt\n",
    "from pgmpy.models import BayesianNetwork\n",
    "from pgmpy.factors.discrete import TabularCPD\n",
    "from sklearn.linear_model import LinearRegression, LogisticRegression\n",
    "from sklearn.model_selection import train_test_split\n",
    "from sklearn.preprocessing import OneHotEncoder\n",
    "import sklearn\n",
    "from sklearn.neighbors import KNeighborsClassifier\n",
    "from sklearn.model_selection import GridSearchCV\n",
    "from sklearn.tree import DecisionTreeClassifier\n",
    "from sklearn.ensemble import GradientBoostingClassifier, RandomForestClassifier\n",
    "from sklearn.model_selection import GridSearchCV\n",
    "from sklearn.neural_network import MLPClassifier\n",
    "from sklearn.tree import DecisionTreeClassifier\n",
    "from sklearn.linear_model import LogisticRegression, SGDClassifier\n",
    "from sklearn.metrics import confusion_matrix, accuracy_score\n",
    "\n",
    "from DataGenerator import *\n",
    "from Competition import *\n",
    "from config import *"
   ]
  },
  {
   "cell_type": "code",
   "execution_count": 2,
   "id": "3b285985",
   "metadata": {},
   "outputs": [
    {
     "data": {
      "application/vnd.jupyter.widget-view+json": {
       "model_id": "ae6be4f0119048a1a9dfd210544a2387",
       "version_major": 2,
       "version_minor": 0
      },
      "text/plain": [
       "  0%|          | 0/8 [00:00<?, ?it/s]"
      ]
     },
     "metadata": {},
     "output_type": "display_data"
    }
   ],
   "source": [
    "BN_EO = initialize_BN()\n",
    "dataset = BN_EO.simulate(n_samples=50000, seed=SEED)"
   ]
  },
  {
   "cell_type": "code",
   "execution_count": 3,
   "id": "e6643c0d",
   "metadata": {},
   "outputs": [
    {
     "data": {
      "text/html": [
       "<div>\n",
       "<style scoped>\n",
       "    .dataframe tbody tr th:only-of-type {\n",
       "        vertical-align: middle;\n",
       "    }\n",
       "\n",
       "    .dataframe tbody tr th {\n",
       "        vertical-align: top;\n",
       "    }\n",
       "\n",
       "    .dataframe thead th {\n",
       "        text-align: right;\n",
       "    }\n",
       "</style>\n",
       "<table border=\"1\" class=\"dataframe\">\n",
       "  <thead>\n",
       "    <tr style=\"text-align: right;\">\n",
       "      <th></th>\n",
       "      <th>SEX</th>\n",
       "      <th>COLLEGE</th>\n",
       "      <th>SAT</th>\n",
       "      <th>INTERN</th>\n",
       "      <th>SCHOOL</th>\n",
       "      <th>SES</th>\n",
       "      <th>JOB</th>\n",
       "      <th>CGPA</th>\n",
       "    </tr>\n",
       "  </thead>\n",
       "  <tbody>\n",
       "    <tr>\n",
       "      <th>0</th>\n",
       "      <td>1</td>\n",
       "      <td>1</td>\n",
       "      <td>2</td>\n",
       "      <td>1</td>\n",
       "      <td>1</td>\n",
       "      <td>2</td>\n",
       "      <td>1</td>\n",
       "      <td>2</td>\n",
       "    </tr>\n",
       "    <tr>\n",
       "      <th>1</th>\n",
       "      <td>1</td>\n",
       "      <td>0</td>\n",
       "      <td>1</td>\n",
       "      <td>1</td>\n",
       "      <td>2</td>\n",
       "      <td>2</td>\n",
       "      <td>0</td>\n",
       "      <td>2</td>\n",
       "    </tr>\n",
       "    <tr>\n",
       "      <th>2</th>\n",
       "      <td>1</td>\n",
       "      <td>0</td>\n",
       "      <td>1</td>\n",
       "      <td>1</td>\n",
       "      <td>1</td>\n",
       "      <td>0</td>\n",
       "      <td>0</td>\n",
       "      <td>2</td>\n",
       "    </tr>\n",
       "    <tr>\n",
       "      <th>3</th>\n",
       "      <td>1</td>\n",
       "      <td>0</td>\n",
       "      <td>2</td>\n",
       "      <td>0</td>\n",
       "      <td>1</td>\n",
       "      <td>1</td>\n",
       "      <td>0</td>\n",
       "      <td>0</td>\n",
       "    </tr>\n",
       "    <tr>\n",
       "      <th>4</th>\n",
       "      <td>0</td>\n",
       "      <td>0</td>\n",
       "      <td>2</td>\n",
       "      <td>0</td>\n",
       "      <td>1</td>\n",
       "      <td>2</td>\n",
       "      <td>0</td>\n",
       "      <td>0</td>\n",
       "    </tr>\n",
       "    <tr>\n",
       "      <th>...</th>\n",
       "      <td>...</td>\n",
       "      <td>...</td>\n",
       "      <td>...</td>\n",
       "      <td>...</td>\n",
       "      <td>...</td>\n",
       "      <td>...</td>\n",
       "      <td>...</td>\n",
       "      <td>...</td>\n",
       "    </tr>\n",
       "    <tr>\n",
       "      <th>49995</th>\n",
       "      <td>0</td>\n",
       "      <td>0</td>\n",
       "      <td>0</td>\n",
       "      <td>0</td>\n",
       "      <td>0</td>\n",
       "      <td>0</td>\n",
       "      <td>0</td>\n",
       "      <td>1</td>\n",
       "    </tr>\n",
       "    <tr>\n",
       "      <th>49996</th>\n",
       "      <td>0</td>\n",
       "      <td>1</td>\n",
       "      <td>1</td>\n",
       "      <td>1</td>\n",
       "      <td>1</td>\n",
       "      <td>2</td>\n",
       "      <td>1</td>\n",
       "      <td>1</td>\n",
       "    </tr>\n",
       "    <tr>\n",
       "      <th>49997</th>\n",
       "      <td>0</td>\n",
       "      <td>1</td>\n",
       "      <td>0</td>\n",
       "      <td>1</td>\n",
       "      <td>0</td>\n",
       "      <td>1</td>\n",
       "      <td>1</td>\n",
       "      <td>1</td>\n",
       "    </tr>\n",
       "    <tr>\n",
       "      <th>49998</th>\n",
       "      <td>1</td>\n",
       "      <td>1</td>\n",
       "      <td>1</td>\n",
       "      <td>1</td>\n",
       "      <td>1</td>\n",
       "      <td>2</td>\n",
       "      <td>1</td>\n",
       "      <td>2</td>\n",
       "    </tr>\n",
       "    <tr>\n",
       "      <th>49999</th>\n",
       "      <td>1</td>\n",
       "      <td>1</td>\n",
       "      <td>2</td>\n",
       "      <td>1</td>\n",
       "      <td>0</td>\n",
       "      <td>2</td>\n",
       "      <td>1</td>\n",
       "      <td>2</td>\n",
       "    </tr>\n",
       "  </tbody>\n",
       "</table>\n",
       "<p>50000 rows × 8 columns</p>\n",
       "</div>"
      ],
      "text/plain": [
       "       SEX  COLLEGE  SAT  INTERN  SCHOOL  SES  JOB  CGPA\n",
       "0        1        1    2       1       1    2    1     2\n",
       "1        1        0    1       1       2    2    0     2\n",
       "2        1        0    1       1       1    0    0     2\n",
       "3        1        0    2       0       1    1    0     0\n",
       "4        0        0    2       0       1    2    0     0\n",
       "...    ...      ...  ...     ...     ...  ...  ...   ...\n",
       "49995    0        0    0       0       0    0    0     1\n",
       "49996    0        1    1       1       1    2    1     1\n",
       "49997    0        1    0       1       0    1    1     1\n",
       "49998    1        1    1       1       1    2    1     2\n",
       "49999    1        1    2       1       0    2    1     2\n",
       "\n",
       "[50000 rows x 8 columns]"
      ]
     },
     "execution_count": 3,
     "metadata": {},
     "output_type": "execute_result"
    }
   ],
   "source": [
    "dataset"
   ]
  },
  {
   "cell_type": "code",
   "execution_count": 4,
   "id": "37a0c427",
   "metadata": {},
   "outputs": [],
   "source": [
    "C1_label = 'COLLEGE'\n",
    "C1_features = ['SES', 'SEX', 'SAT', 'SCHOOL']\n",
    "C1 = Competition(dataset, C1_features, C1_label, ['SEX', 'SES'], [0,0])"
   ]
  },
  {
   "cell_type": "code",
   "execution_count": 5,
   "id": "4f937436",
   "metadata": {},
   "outputs": [],
   "source": [
    "C2_label = 'INTERN'\n",
    "C2_features = ['SES', 'SEX', 'SAT', 'SCHOOL','COLLEGE','CGPA']\n",
    "C2 = Competition(dataset, C2_features, C2_label, ['SEX', 'SES'], [0,0])"
   ]
  },
  {
   "cell_type": "code",
   "execution_count": 6,
   "id": "b011ae9e",
   "metadata": {},
   "outputs": [],
   "source": [
    "C3_label = 'JOB'\n",
    "C3_features = ['SES', 'SEX', 'SAT', 'SCHOOL','COLLEGE','CGPA','INTERN']\n",
    "C3 = Competition(dataset, C2_features, C2_label, ['SEX', 'SES'], [0,0])"
   ]
  },
  {
   "cell_type": "code",
   "execution_count": 7,
   "id": "6a9cc084",
   "metadata": {},
   "outputs": [
    {
     "data": {
      "text/plain": [
       "((30000, 4), (10000, 4), (10000, 4))"
      ]
     },
     "execution_count": 7,
     "metadata": {},
     "output_type": "execute_result"
    }
   ],
   "source": [
    "X_train, y_train, X_test, y_test, X_val, y_val = C1.create_train_test_val_split(SEED=44)\n",
    "X_train.shape, X_test.shape, X_val.shape"
   ]
  },
  {
   "cell_type": "code",
   "execution_count": 8,
   "id": "78fa1ee3",
   "metadata": {},
   "outputs": [
    {
     "data": {
      "text/plain": [
       "(       SES  SEX  SAT  SCHOOL  COLLEGE  CGPA\n",
       " 7180     1    0    2       0        1     0\n",
       " 23110    1    0    1       0        1     1\n",
       " 39329    1    1    0       2        1     2\n",
       " 319      2    1    1       1        0     2\n",
       " 7916     2    0    1       0        1     1\n",
       " ...    ...  ...  ...     ...      ...   ...\n",
       " 16848    2    0    2       0        1     1\n",
       " 45072    1    1    0       1        0     2\n",
       " 19667    2    1    2       1        1     0\n",
       " 6728     2    0    2       1        1     1\n",
       " 7086     0    1    0       2        1     2\n",
       " \n",
       " [30000 rows x 6 columns],\n",
       " 7180     1\n",
       " 23110    1\n",
       " 39329    1\n",
       " 319      1\n",
       " 7916     1\n",
       "         ..\n",
       " 16848    1\n",
       " 45072    0\n",
       " 19667    1\n",
       " 6728     1\n",
       " 7086     1\n",
       " Name: INTERN, Length: 30000, dtype: int64,\n",
       "        SES  SEX  SAT  SCHOOL  COLLEGE  CGPA\n",
       " 49457    1    1    2       2        1     2\n",
       " 20706    1    0    2       0        1     0\n",
       " 46059    2    1    1       2        0     1\n",
       " 38076    2    1    2       2        1     2\n",
       " 8394     2    1    2       2        1     2\n",
       " ...    ...  ...  ...     ...      ...   ...\n",
       " 34398    2    0    0       0        0     0\n",
       " 41323    1    0    1       0        1     1\n",
       " 17138    1    1    2       2        1     2\n",
       " 14034    1    0    1       0        1     1\n",
       " 31387    2    0    2       1        1     1\n",
       " \n",
       " [10000 rows x 6 columns],\n",
       " 49457    0\n",
       " 20706    1\n",
       " 46059    0\n",
       " 38076    1\n",
       " 8394     1\n",
       "         ..\n",
       " 34398    1\n",
       " 41323    1\n",
       " 17138    1\n",
       " 14034    1\n",
       " 31387    1\n",
       " Name: INTERN, Length: 10000, dtype: int64,\n",
       "        SES  SEX  SAT  SCHOOL  COLLEGE  CGPA\n",
       " 48004    2    0    0       1        0     0\n",
       " 6168     2    0    1       2        0     1\n",
       " 31693    1    1    2       2        1     2\n",
       " 17547    1    0    2       0        1     0\n",
       " 41374    2    0    2       1        1     1\n",
       " ...    ...  ...  ...     ...      ...   ...\n",
       " 40325    0    1    2       2        1     0\n",
       " 1622     1    0    1       0        0     0\n",
       " 29904    1    0    0       0        0     0\n",
       " 12158    2    1    2       0        1     2\n",
       " 47080    1    1    2       2        1     1\n",
       " \n",
       " [10000 rows x 6 columns],\n",
       " 48004    0\n",
       " 6168     0\n",
       " 31693    1\n",
       " 17547    0\n",
       " 41374    0\n",
       "         ..\n",
       " 40325    0\n",
       " 1622     0\n",
       " 29904    0\n",
       " 12158    1\n",
       " 47080    1\n",
       " Name: INTERN, Length: 10000, dtype: int64)"
      ]
     },
     "execution_count": 8,
     "metadata": {},
     "output_type": "execute_result"
    }
   ],
   "source": [
    "C2.create_train_test_val_split(SEED=44)\n",
    "C3.create_train_test_val_split(SEED=44)"
   ]
  },
  {
   "cell_type": "code",
   "execution_count": 9,
   "id": "585e2057",
   "metadata": {},
   "outputs": [
    {
     "name": "stdout",
     "output_type": "stream",
     "text": [
      "SEX_SES_priv 0.1191\n",
      "SEX_SES_dis 0.313\n",
      "SEX_priv 0.6057\n",
      "SEX_dis 0.3943\n",
      "SES_priv 0.2004\n",
      "SES_dis 0.7996\n"
     ]
    }
   ],
   "source": [
    "for i in C1.test_groups.keys():\n",
    "    print(i, C1.test_groups[i].shape[0]/C1.X_test.shape[0])"
   ]
  },
  {
   "cell_type": "code",
   "execution_count": 10,
   "id": "051cde88",
   "metadata": {},
   "outputs": [
    {
     "name": "stdout",
     "output_type": "stream",
     "text": [
      "gb-tree\n",
      "Fitting 5 folds for each of 3 candidates, totalling 15 fits\n",
      "rfc\n",
      "Fitting 5 folds for each of 3 candidates, totalling 15 fits\n",
      "dtc\n",
      "Fitting 5 folds for each of 72 candidates, totalling 360 fits\n",
      "knn\n",
      "Fitting 5 folds for each of 3 candidates, totalling 15 fits\n",
      "lr\n",
      "Fitting 5 folds for each of 25 candidates, totalling 125 fits\n",
      "sgd\n",
      "Fitting 5 folds for each of 3 candidates, totalling 15 fits\n",
      "mlp\n",
      "Fitting 5 folds for each of 3 candidates, totalling 15 fits\n"
     ]
    },
    {
     "name": "stderr",
     "output_type": "stream",
     "text": [
      "/Library/Frameworks/Python.framework/Versions/3.9/lib/python3.9/site-packages/sklearn/neural_network/_multilayer_perceptron.py:702: ConvergenceWarning: Stochastic Optimizer: Maximum iterations (200) reached and the optimization hasn't converged yet.\n",
      "  warnings.warn(\n",
      "/Library/Frameworks/Python.framework/Versions/3.9/lib/python3.9/site-packages/sklearn/neural_network/_multilayer_perceptron.py:702: ConvergenceWarning: Stochastic Optimizer: Maximum iterations (200) reached and the optimization hasn't converged yet.\n",
      "  warnings.warn(\n",
      "/Library/Frameworks/Python.framework/Versions/3.9/lib/python3.9/site-packages/sklearn/neural_network/_multilayer_perceptron.py:702: ConvergenceWarning: Stochastic Optimizer: Maximum iterations (200) reached and the optimization hasn't converged yet.\n",
      "  warnings.warn(\n",
      "/Library/Frameworks/Python.framework/Versions/3.9/lib/python3.9/site-packages/sklearn/neural_network/_multilayer_perceptron.py:702: ConvergenceWarning: Stochastic Optimizer: Maximum iterations (200) reached and the optimization hasn't converged yet.\n",
      "  warnings.warn(\n",
      "/Library/Frameworks/Python.framework/Versions/3.9/lib/python3.9/site-packages/sklearn/neural_network/_multilayer_perceptron.py:702: ConvergenceWarning: Stochastic Optimizer: Maximum iterations (200) reached and the optimization hasn't converged yet.\n",
      "  warnings.warn(\n",
      "/Library/Frameworks/Python.framework/Versions/3.9/lib/python3.9/site-packages/sklearn/neural_network/_multilayer_perceptron.py:702: ConvergenceWarning: Stochastic Optimizer: Maximum iterations (200) reached and the optimization hasn't converged yet.\n",
      "  warnings.warn(\n"
     ]
    },
    {
     "data": {
      "text/plain": [
       "{'gb-tree': GradientBoostingClassifier(n_estimators=50, random_state=111),\n",
       " 'rfc': RandomForestClassifier(n_estimators=50, random_state=111),\n",
       " 'dtc': DecisionTreeClassifier(ccp_alpha=0.001, max_depth=5, random_state=111,\n",
       "                        splitter='random'),\n",
       " 'knn': KNeighborsClassifier(n_neighbors=10),\n",
       " 'lr': LogisticRegression(C=1, max_iter=200, random_state=111, solver='newton-cg'),\n",
       " 'sgd': SGDClassifier(eta0=0.001, random_state=111),\n",
       " 'mlp': MLPClassifier(hidden_layer_sizes=(100, 200), random_state=111, solver='sgd')}"
      ]
     },
     "execution_count": 10,
     "metadata": {},
     "output_type": "execute_result"
    }
   ],
   "source": [
    "best_models = {}\n",
    "for model_name in model_specs.keys():\n",
    "#for model_name in ['lr']:\n",
    "    print(model_name)\n",
    "    search = GridSearchCV(model_specs[model_name][\"base_model\"], model_specs[model_name][\"params\"], cv=5, n_jobs=-1, verbose=True)\n",
    "    model = search.fit(X_train, y_train)\n",
    "    best_models[model_name] = model.best_estimator_\n",
    "    \n",
    "best_models"
   ]
  },
  {
   "cell_type": "raw",
   "id": "e6f6f60c",
   "metadata": {},
   "source": [
    "for model_name in model_specs.keys():\n",
    "    print(best_models[model_name], best_models[model_name].score(X_val, y_val))"
   ]
  },
  {
   "cell_type": "code",
   "execution_count": 11,
   "id": "6a73e235",
   "metadata": {},
   "outputs": [
    {
     "ename": "AttributeError",
     "evalue": "'Competition' object has no attribute 'compute_predictive_metrics'",
     "output_type": "error",
     "traceback": [
      "\u001b[0;31m---------------------------------------------------------------------------\u001b[0m",
      "\u001b[0;31mAttributeError\u001b[0m                            Traceback (most recent call last)",
      "\u001b[0;32m/var/folders/hv/l0r_7qdd1klgjs1kp27qyjqc0000gn/T/ipykernel_5764/3668204277.py\u001b[0m in \u001b[0;36m<module>\u001b[0;34m\u001b[0m\n\u001b[1;32m      1\u001b[0m \u001b[0mbest_model\u001b[0m \u001b[0;34m=\u001b[0m \u001b[0mbest_models\u001b[0m\u001b[0;34m[\u001b[0m\u001b[0;34m'lr'\u001b[0m\u001b[0;34m]\u001b[0m\u001b[0;34m\u001b[0m\u001b[0;34m\u001b[0m\u001b[0m\n\u001b[1;32m      2\u001b[0m \u001b[0mres_df\u001b[0m \u001b[0;34m=\u001b[0m \u001b[0mC1\u001b[0m\u001b[0;34m.\u001b[0m\u001b[0mfit_base_model\u001b[0m\u001b[0;34m(\u001b[0m\u001b[0mbest_model\u001b[0m\u001b[0;34m)\u001b[0m\u001b[0;34m\u001b[0m\u001b[0;34m\u001b[0m\u001b[0m\n\u001b[0;32m----> 3\u001b[0;31m \u001b[0m__\u001b[0m \u001b[0;34m=\u001b[0m \u001b[0mC1\u001b[0m\u001b[0;34m.\u001b[0m\u001b[0mcompute_predictive_metrics\u001b[0m\u001b[0;34m(\u001b[0m\u001b[0;34m)\u001b[0m\u001b[0;34m\u001b[0m\u001b[0;34m\u001b[0m\u001b[0m\n\u001b[0m",
      "\u001b[0;31mAttributeError\u001b[0m: 'Competition' object has no attribute 'compute_predictive_metrics'"
     ]
    }
   ],
   "source": [
    "best_model = best_models['lr']\n",
    "res_df = C1.fit_base_model(best_model)\n",
    "__ = C1.compute_predictive_metrics()"
   ]
  },
  {
   "cell_type": "raw",
   "id": "5641840e",
   "metadata": {},
   "source": [
    "res_df.to_csv(\"C1_results.csv\", index=False)"
   ]
  },
  {
   "cell_type": "code",
   "execution_count": null,
   "id": "9be71a49",
   "metadata": {},
   "outputs": [],
   "source": [
    "res2_df = C2.fit_base_model(best_model)"
   ]
  },
  {
   "cell_type": "code",
   "execution_count": null,
   "id": "29bea665",
   "metadata": {},
   "outputs": [],
   "source": [
    "res3_df = C3.fit_base_model(best_model)"
   ]
  },
  {
   "cell_type": "code",
   "execution_count": null,
   "id": "bc04dca8",
   "metadata": {},
   "outputs": [],
   "source": [
    "C1.X_train"
   ]
  },
  {
   "cell_type": "code",
   "execution_count": null,
   "id": "487652d5",
   "metadata": {},
   "outputs": [],
   "source": [
    "def sigmoid(x):\n",
    "    return np.array([_sigmoid_function(value) for value in x])\n",
    "\n",
    "def _sigmoid_function(x):\n",
    "    if x >= 0:\n",
    "        z = np.exp(-x)\n",
    "        return 1 / (1 + z)\n",
    "    else:\n",
    "        z = np.exp(x)\n",
    "        return z / (1 + z)"
   ]
  },
  {
   "cell_type": "code",
   "execution_count": null,
   "id": "14296b59",
   "metadata": {},
   "outputs": [],
   "source": [
    "def mse(y_true, y_pred, sample_weights=None):\n",
    "    return np.average((y_true - y_pred) ** 2, axis=0, weights=sample_weights)"
   ]
  },
  {
   "cell_type": "code",
   "execution_count": null,
   "id": "8b0759bd",
   "metadata": {},
   "outputs": [],
   "source": [
    "def cross_entropy(y_true, y_pred):\n",
    "    # binary cross entropy\n",
    "    y_zero_loss = y_true * np.log(y_pred + 1e-9)\n",
    "    y_one_loss = (1-y_true) * np.log(1 - y_pred + 1e-9)\n",
    "    return -np.mean(y_zero_loss + y_one_loss)"
   ]
  },
  {
   "cell_type": "code",
   "execution_count": null,
   "id": "979ca077",
   "metadata": {},
   "outputs": [],
   "source": [
    "def C_forward_linear(X, Y):\n",
    "    # SES, SEX, SAT, SCHOOL\n",
    "    # 0 is priv\n",
    "    beta = [-0.5, -0.2, -0.6, -0.1]\n",
    "    beta_y = -0.8\n",
    "    return sigmoid(np.matmul(X,beta)+beta_y*Y)"
   ]
  },
  {
   "cell_type": "code",
   "execution_count": null,
   "id": "02c7da55",
   "metadata": {},
   "outputs": [],
   "source": [
    "class CustomLinearModel:\n",
    "    \"\"\"\n",
    "    Linear model: Y = XB, fit by minimizing the provided loss_function\n",
    "    with custom regularization\n",
    "    \"\"\"\n",
    "    def __init__(self, loss_function=cross_entropy, C_forward=C_forward_linear,\n",
    "                 X=None, Y=None, sample_weights=None, beta_init=None, \n",
    "                 regularization=0.0015):\n",
    "        self.regularization = regularization\n",
    "        self.beta = None\n",
    "        self.loss_function = loss_function\n",
    "        self.C_forward_fuction = C_forward\n",
    "        self.sample_weights = sample_weights\n",
    "        self.beta_init = beta_init\n",
    "        \n",
    "        self.model_error__ = []\n",
    "        self.forward_error__ = []\n",
    "        self.X = X\n",
    "        self.Y = Y\n",
    "            \n",
    "    def predict(self, X):\n",
    "        prediction = sigmoid(np.matmul(X, self.beta))\n",
    "        return(prediction)\n",
    "\n",
    "    def model_error(self):\n",
    "        error = self.loss_function(\n",
    "            self.predict(self.X), self.Y\n",
    "        )\n",
    "        #print(\"model error: \", error)\n",
    "        self.model_error__.append(error)\n",
    "        return(error)\n",
    "    \n",
    "    def C2_error(self):\n",
    "        error = np.linalg.norm((self.C_forward_fuction(self.X, self.predict(self.X))), ord=1)\n",
    "        #print(\"forward error: \", error)\n",
    "        self.forward_error__.append(error)\n",
    "        return(error)\n",
    "    \n",
    "    def custom_foward_loss(self, beta):\n",
    "        self.beta = beta\n",
    "        return (self.model_error() + (self.regularization*self.C2_error()))\n",
    "    \n",
    "    def l2_regularized_loss(self, beta):\n",
    "        self.beta = beta\n",
    "        return(self.model_error() + \\\n",
    "               sum(self.regularization*np.array(self.beta)**2))\n",
    "    \n",
    "    def plot_train_dynamics(self, scale_factor):\n",
    "        plt.figure(figsize=(10,5))\n",
    "        plt.plot(range(len(self.forward_error__)), [i * scale_factor for i in self.forward_error__], label='forward_err')\n",
    "        plt.plot(range(len(self.forward_error__)), self.model_error__, label='model_err')\n",
    "        plt.legend()\n",
    "        plt.show()\n",
    "    \n",
    "    def fit(self, maxiter=250):        \n",
    "        # Initialize beta estimates (you may need to normalize\n",
    "        # your data and choose smarter initialization values\n",
    "        # depending on the shape of your loss function)\n",
    "        if type(self.beta_init)==type(None):\n",
    "            # set beta_init = 1 for every feature\n",
    "            self.beta_init = np.array([0.1]*self.X.shape[1])\n",
    "        else: \n",
    "            # Use provided initial values\n",
    "            pass\n",
    "            \n",
    "        if self.beta!=None and all(self.beta_init == self.beta):\n",
    "            print(\"Model already fit once; continuing fit with more iterations.\")\n",
    "            \n",
    "        res = minimize(self.custom_foward_loss, self.beta_init,\n",
    "                       method='BFGS', options={'maxiter': maxiter})\n",
    "        self.beta = res.x\n",
    "        self.beta_init = self.beta"
   ]
  },
  {
   "cell_type": "code",
   "execution_count": null,
   "id": "79645a00",
   "metadata": {
    "scrolled": false
   },
   "outputs": [],
   "source": [
    "#lambda_range = [0, 0.0001, 0.001, 0.005, 0.01, 0.02, 0.05, 0.075, 0.1, 0.15]\n",
    "lambda_range = [0, 0.0001, 0.001, 0.005, 0.01, 0.02, 0.05, 0.075, 0.1, 0.2, 1]\n",
    "acc = []\n",
    "for lambda_ in lambda_range:\n",
    "    print(lambda_)\n",
    "    c1_fair = CustomLinearModel(X=C1.X_train.values, Y=C1.y_train.values, regularization=lambda_)\n",
    "    c1_fair.fit(maxiter=250)\n",
    "    c1_fair_preds = np.round(c1_fair.predict(C1.X_test.values))\n",
    "    acc.append(accuracy_score(C1.y_test.values, c1_fair_preds))\n",
    "    c1_fair.plot_train_dynamics(0.1*lambda_)\n",
    "    \n",
    "print(c1_fair.beta)"
   ]
  },
  {
   "cell_type": "code",
   "execution_count": null,
   "id": "ec656b66",
   "metadata": {},
   "outputs": [],
   "source": [
    "plt.plot(lambda_range, acc)\n",
    "plt.show()"
   ]
  },
  {
   "cell_type": "code",
   "execution_count": null,
   "id": "c4570495",
   "metadata": {},
   "outputs": [],
   "source": [
    "c1_fair = CustomLinearModel(X=C1.X_train.values, Y=C1.y_train.values, regularization=0.002)\n",
    "c1_fair.fit(maxiter=250)\n",
    "c1_fair_preds = np.round(c1_fair.predict(C1.X_test.values))"
   ]
  },
  {
   "cell_type": "code",
   "execution_count": null,
   "id": "63d02655",
   "metadata": {},
   "outputs": [],
   "source": [
    "c1_fair_preds"
   ]
  },
  {
   "cell_type": "code",
   "execution_count": null,
   "id": "3bf67df5",
   "metadata": {},
   "outputs": [],
   "source": [
    "c1_fair_metrics = {}\n",
    "\n",
    "c1_fair_metrics['overall'] = compute_metrics(C1.y_test, c1_fair_preds)\n",
    "\n",
    "for group_name in C1.test_groups.keys():\n",
    "    X_test_group = C1.test_groups[group_name]\n",
    "    c1_fair_metrics[group_name] = compute_metrics(C1.y_test[C1.test_groups[group_name].index], np.round(c1_fair.predict(C1.test_groups[group_name])))"
   ]
  },
  {
   "cell_type": "code",
   "execution_count": null,
   "id": "c5a4faf2",
   "metadata": {},
   "outputs": [],
   "source": [
    "pd.DataFrame(C1.metrics)"
   ]
  },
  {
   "cell_type": "code",
   "execution_count": null,
   "id": "c80b99c2",
   "metadata": {},
   "outputs": [],
   "source": [
    "pd.DataFrame(c1_fair_metrics)"
   ]
  }
 ],
 "metadata": {
  "kernelspec": {
   "display_name": "Python 3 (ipykernel)",
   "language": "python",
   "name": "python3"
  },
  "language_info": {
   "codemirror_mode": {
    "name": "ipython",
    "version": 3
   },
   "file_extension": ".py",
   "mimetype": "text/x-python",
   "name": "python",
   "nbconvert_exporter": "python",
   "pygments_lexer": "ipython3",
   "version": "3.9.7"
  }
 },
 "nbformat": 4,
 "nbformat_minor": 5
}
