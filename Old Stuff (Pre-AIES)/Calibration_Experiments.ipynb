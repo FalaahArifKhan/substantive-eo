{
 "cells": [
  {
   "cell_type": "code",
   "execution_count": 1,
   "id": "6cc7f2e1",
   "metadata": {},
   "outputs": [],
   "source": [
    "%reload_ext autoreload\n",
    "%autoreload 2\n",
    "\n",
    "import pandas as pd\n",
    "import numpy as np\n",
    "from scipy.optimize import minimize\n",
    "import matplotlib.pyplot as plt\n",
    "from pgmpy.models import BayesianNetwork\n",
    "from pgmpy.factors.discrete import TabularCPD\n",
    "from sklearn.linear_model import LinearRegression, LogisticRegression\n",
    "from sklearn.model_selection import train_test_split\n",
    "from sklearn.preprocessing import OneHotEncoder\n",
    "import sklearn\n",
    "from sklearn.neighbors import KNeighborsClassifier\n",
    "from sklearn.model_selection import GridSearchCV\n",
    "from sklearn.tree import DecisionTreeClassifier\n",
    "from sklearn.ensemble import GradientBoostingClassifier, RandomForestClassifier\n",
    "from sklearn.model_selection import GridSearchCV\n",
    "from sklearn.neural_network import MLPClassifier\n",
    "from sklearn.tree import DecisionTreeClassifier\n",
    "from sklearn.linear_model import LogisticRegression, SGDClassifier\n",
    "from sklearn.metrics import confusion_matrix, accuracy_score\n",
    "\n",
    "from DataGenerator import *\n",
    "from Competition import *\n",
    "from config import * \n",
    "from generic_analyzer import *\n",
    "from utils.common_helpers import *"
   ]
  },
  {
   "cell_type": "code",
   "execution_count": 2,
   "id": "43a871ef",
   "metadata": {},
   "outputs": [
    {
     "data": {
      "application/vnd.jupyter.widget-view+json": {
       "model_id": "82e67bd2e3aa4ed48b48714dfdb673c1",
       "version_major": 2,
       "version_minor": 0
      },
      "text/plain": [
       "  0%|          | 0/8 [00:00<?, ?it/s]"
      ]
     },
     "metadata": {},
     "output_type": "display_data"
    }
   ],
   "source": [
    "BN_EO = initialize_BN()\n",
    "dataset = BN_EO.simulate(n_samples=50000, seed=SEED)"
   ]
  },
  {
   "cell_type": "code",
   "execution_count": 3,
   "id": "b351d085",
   "metadata": {},
   "outputs": [],
   "source": [
    "C1_label = 'COLLEGE'\n",
    "C1_features = ['SES', 'SEX', 'SAT', 'SCHOOL']\n",
    "C1 = Competition(dataset, C1_features, C1_label, ['SEX', 'SES'], [0,0])"
   ]
  },
  {
   "cell_type": "code",
   "execution_count": 4,
   "id": "aa09c69b",
   "metadata": {},
   "outputs": [],
   "source": [
    "C2_label = 'INTERN'\n",
    "C2_features = ['SES', 'SEX', 'SAT', 'SCHOOL','COLLEGE','CGPA']\n",
    "C2 = Competition(dataset, C2_features, C2_label, ['SEX', 'SES'], [0,0])"
   ]
  },
  {
   "cell_type": "code",
   "execution_count": 5,
   "id": "a318311e",
   "metadata": {},
   "outputs": [],
   "source": [
    "C3_label = 'JOB'\n",
    "C3_features = ['SES', 'SEX', 'SAT', 'SCHOOL','COLLEGE','CGPA','INTERN']\n",
    "C3 = Competition(dataset, C2_features, C2_label, ['SEX', 'SES'], [0,0])"
   ]
  },
  {
   "cell_type": "code",
   "execution_count": 6,
   "id": "e023c0d2",
   "metadata": {},
   "outputs": [
    {
     "data": {
      "text/plain": [
       "((30000, 4), (10000, 4), (10000, 4))"
      ]
     },
     "execution_count": 6,
     "metadata": {},
     "output_type": "execute_result"
    }
   ],
   "source": [
    "X_train, y_train, X_test, y_test, X_val, y_val = C1.create_train_test_val_split(SEED=44)\n",
    "X_train.shape, X_test.shape, X_val.shape"
   ]
  },
  {
   "cell_type": "code",
   "execution_count": 7,
   "id": "122b3310",
   "metadata": {},
   "outputs": [],
   "source": [
    "# Using the same seed so that all contests share the same split\n",
    "__ = C2.create_train_test_val_split(SEED=44)\n",
    "__ = C3.create_train_test_val_split(SEED=44)"
   ]
  },
  {
   "cell_type": "code",
   "execution_count": 8,
   "id": "a164cafb",
   "metadata": {},
   "outputs": [],
   "source": [
    "best_model = LogisticRegression(C=1, max_iter=200, random_state=SEED, solver='newton-cg')"
   ]
  },
  {
   "cell_type": "code",
   "execution_count": 9,
   "id": "121a2001",
   "metadata": {},
   "outputs": [
    {
     "data": {
      "text/plain": [
       "0.7459"
      ]
     },
     "execution_count": 9,
     "metadata": {},
     "output_type": "execute_result"
    }
   ],
   "source": [
    "C1.fit_base_model(best_model)"
   ]
  },
  {
   "cell_type": "code",
   "execution_count": 10,
   "id": "2a42f2e0",
   "metadata": {},
   "outputs": [],
   "source": [
    "y_preds1 = C1.predict(C1.X_test)\n",
    "y_probs1 = C1.predict_proba(C1.X_test)"
   ]
  },
  {
   "cell_type": "code",
   "execution_count": 11,
   "id": "5137f49c",
   "metadata": {},
   "outputs": [
    {
     "name": "stdout",
     "output_type": "stream",
     "text": [
      "SEX_SES_priv 0.1191\n",
      "SEX_SES_dis 0.8809\n",
      "SEX_priv 0.6057\n",
      "SEX_dis 0.3943\n",
      "SES_priv 0.2004\n",
      "SES_dis 0.7996\n"
     ]
    }
   ],
   "source": [
    "Analyzer = GenericAnalyzer(C1.X_test, C1.y_test, ['SEX','SES'], [0, 0])\n",
    "\n",
    "for i in Analyzer.test_groups.keys():\n",
    "    print(i, Analyzer.test_groups[i].shape[0]/Analyzer.X_test.shape[0])"
   ]
  },
  {
   "cell_type": "code",
   "execution_count": 12,
   "id": "aaa02909",
   "metadata": {},
   "outputs": [
    {
     "name": "stdout",
     "output_type": "stream",
     "text": [
      "|                |   overall |   SEX_SES_priv |   SEX_SES_dis |   SEX_priv |   SEX_dis |   SES_priv |   SES_dis |\n",
      "|:---------------|----------:|---------------:|--------------:|-----------:|----------:|-----------:|----------:|\n",
      "| TPR            |  0.73859  |       1        |      0.654672 |   0.808608 |  0.546512 |  0.955776  |  0.615356 |\n",
      "| TNR            |  0.751161 |       0        |      0.774331 |   0.616722 |  0.893451 |  0.216769  |  0.800225 |\n",
      "| PPV            |  0.681137 |       0.853904 |      0.619659 |   0.683949 |  0.669956 |  0.790825  |  0.606945 |\n",
      "| FNR            |  0.26141  |       0        |      0.345328 |   0.191392 |  0.453488 |  0.0442244 |  0.384644 |\n",
      "| FPR            |  0.248839 |       1        |      0.225669 |   0.383278 |  0.106549 |  0.783231  |  0.199775 |\n",
      "| Accuracy       |  0.7459   |       0.853904 |      0.731298 |   0.713885 |  0.79508  |  0.775449  |  0.738494 |\n",
      "| F1             |  0.708701 |       0.921196 |      0.636685 |   0.741073 |  0.60197  |  0.865511  |  0.611121 |\n",
      "| Selection-Rate |  0.4538   |       1        |      0.379952 |   0.598646 |  0.231296 |  0.913673  |  0.338544 |\n",
      "| Positive-Rate  |  1.08435  |       1.17109  |      1.0565   |   1.18226  |  0.815742 |  1.20858   |  1.01386  |\n"
     ]
    }
   ],
   "source": [
    "c1_res = Analyzer.compute_metrics(y_preds1, 'Base_Model')\n",
    "print(pd.DataFrame(c1_res).to_markdown())"
   ]
  },
  {
   "cell_type": "code",
   "execution_count": 13,
   "id": "b95ce9c4",
   "metadata": {},
   "outputs": [],
   "source": [
    "def find_q_val(y, alpha):\n",
    "    n = len(y)\n",
    "    alpha_corrected = ((n+1)*(1-alpha))/n\n",
    "\n",
    "    pos = int(round(alpha_corrected*n))\n",
    "    return np.sort(y)[pos]"
   ]
  },
  {
   "cell_type": "code",
   "execution_count": 30,
   "id": "651c806e",
   "metadata": {},
   "outputs": [
    {
     "data": {
      "text/plain": [
       "49457    1\n",
       "20706    1\n",
       "46059    0\n",
       "38076    1\n",
       "8394     1\n",
       "        ..\n",
       "34398    0\n",
       "41323    1\n",
       "17138    1\n",
       "14034    1\n",
       "31387    1\n",
       "Name: COLLEGE, Length: 10000, dtype: int64"
      ]
     },
     "execution_count": 30,
     "metadata": {},
     "output_type": "execute_result"
    }
   ],
   "source": [
    "Analyzer.y_test"
   ]
  },
  {
   "cell_type": "code",
   "execution_count": 33,
   "id": "d2c4ecd8",
   "metadata": {},
   "outputs": [
    {
     "data": {
      "text/html": [
       "<div>\n",
       "<style scoped>\n",
       "    .dataframe tbody tr th:only-of-type {\n",
       "        vertical-align: middle;\n",
       "    }\n",
       "\n",
       "    .dataframe tbody tr th {\n",
       "        vertical-align: top;\n",
       "    }\n",
       "\n",
       "    .dataframe thead th {\n",
       "        text-align: right;\n",
       "    }\n",
       "</style>\n",
       "<table border=\"1\" class=\"dataframe\">\n",
       "  <thead>\n",
       "    <tr style=\"text-align: right;\">\n",
       "      <th></th>\n",
       "      <th>SES</th>\n",
       "      <th>SEX</th>\n",
       "      <th>SAT</th>\n",
       "      <th>SCHOOL</th>\n",
       "    </tr>\n",
       "  </thead>\n",
       "  <tbody>\n",
       "    <tr>\n",
       "      <th>49457</th>\n",
       "      <td>1</td>\n",
       "      <td>1</td>\n",
       "      <td>2</td>\n",
       "      <td>2</td>\n",
       "    </tr>\n",
       "    <tr>\n",
       "      <th>20706</th>\n",
       "      <td>1</td>\n",
       "      <td>0</td>\n",
       "      <td>2</td>\n",
       "      <td>0</td>\n",
       "    </tr>\n",
       "    <tr>\n",
       "      <th>46059</th>\n",
       "      <td>2</td>\n",
       "      <td>1</td>\n",
       "      <td>1</td>\n",
       "      <td>2</td>\n",
       "    </tr>\n",
       "    <tr>\n",
       "      <th>38076</th>\n",
       "      <td>2</td>\n",
       "      <td>1</td>\n",
       "      <td>2</td>\n",
       "      <td>2</td>\n",
       "    </tr>\n",
       "    <tr>\n",
       "      <th>8394</th>\n",
       "      <td>2</td>\n",
       "      <td>1</td>\n",
       "      <td>2</td>\n",
       "      <td>2</td>\n",
       "    </tr>\n",
       "    <tr>\n",
       "      <th>...</th>\n",
       "      <td>...</td>\n",
       "      <td>...</td>\n",
       "      <td>...</td>\n",
       "      <td>...</td>\n",
       "    </tr>\n",
       "    <tr>\n",
       "      <th>34398</th>\n",
       "      <td>2</td>\n",
       "      <td>0</td>\n",
       "      <td>0</td>\n",
       "      <td>0</td>\n",
       "    </tr>\n",
       "    <tr>\n",
       "      <th>41323</th>\n",
       "      <td>1</td>\n",
       "      <td>0</td>\n",
       "      <td>1</td>\n",
       "      <td>0</td>\n",
       "    </tr>\n",
       "    <tr>\n",
       "      <th>17138</th>\n",
       "      <td>1</td>\n",
       "      <td>1</td>\n",
       "      <td>2</td>\n",
       "      <td>2</td>\n",
       "    </tr>\n",
       "    <tr>\n",
       "      <th>14034</th>\n",
       "      <td>1</td>\n",
       "      <td>0</td>\n",
       "      <td>1</td>\n",
       "      <td>0</td>\n",
       "    </tr>\n",
       "    <tr>\n",
       "      <th>31387</th>\n",
       "      <td>2</td>\n",
       "      <td>0</td>\n",
       "      <td>2</td>\n",
       "      <td>1</td>\n",
       "    </tr>\n",
       "  </tbody>\n",
       "</table>\n",
       "<p>10000 rows × 4 columns</p>\n",
       "</div>"
      ],
      "text/plain": [
       "       SES  SEX  SAT  SCHOOL\n",
       "49457    1    1    2       2\n",
       "20706    1    0    2       0\n",
       "46059    2    1    1       2\n",
       "38076    2    1    2       2\n",
       "8394     2    1    2       2\n",
       "...    ...  ...  ...     ...\n",
       "34398    2    0    0       0\n",
       "41323    1    0    1       0\n",
       "17138    1    1    2       2\n",
       "14034    1    0    1       0\n",
       "31387    2    0    2       1\n",
       "\n",
       "[10000 rows x 4 columns]"
      ]
     },
     "execution_count": 33,
     "metadata": {},
     "output_type": "execute_result"
    }
   ],
   "source": [
    "Analyzer.X_test"
   ]
  },
  {
   "cell_type": "code",
   "execution_count": null,
   "id": "48590640",
   "metadata": {},
   "outputs": [],
   "source": [
    "[C1.predict_proba(Analyzer.X_test)[]]"
   ]
  },
  {
   "cell_type": "code",
   "execution_count": 14,
   "id": "372db3b5",
   "metadata": {},
   "outputs": [
    {
     "name": "stdout",
     "output_type": "stream",
     "text": [
      "Overall  0.17471698840829064\n",
      "SEX_SES_priv 0.7825703357813271\n",
      "SEX_SES_dis 0.16967369727880555\n",
      "SEX_priv 0.2977231576566781\n",
      "SEX_dis 0.15119575678497088\n",
      "SES_priv 0.6061864830842922\n",
      "SES_dis 0.16967369727880555\n"
     ]
    }
   ],
   "source": [
    "alpha = 0.7\n",
    "q_vals = {}\n",
    "y_back_fair = {}\n",
    "\n",
    "y_probs = C1.predict_proba(Analyzer.X_test)[:,0]\n",
    "print(\"Overall \", find_q_val(y_probs, alpha))\n",
    "\n",
    "for g in Analyzer.test_groups.keys():\n",
    "    y_probs = C1.predict_proba(Analyzer.test_groups[g])[:,0]\n",
    "    q_vals[g] = find_q_val(y_probs, alpha)\n",
    "    y_back_fair[g] = np.array([int(y__ > q_vals[g]) for y__ in y_probs])\n",
    "    \n",
    "    print(g, q_vals[g])\n",
    "    "
   ]
  },
  {
   "cell_type": "code",
   "execution_count": 15,
   "id": "c5a46a22",
   "metadata": {},
   "outputs": [],
   "source": [
    "interventions = {\n",
    "    \"SEX\": ['SEX_priv', 'SEX_dis'],\n",
    "    \"SES\": ['SES_priv', 'SES_dis'],\n",
    "    \"SEX_SES\" : ['SEX_SES_priv', 'SEX_SES_dis']\n",
    "}"
   ]
  },
  {
   "cell_type": "code",
   "execution_count": 16,
   "id": "df2d3420",
   "metadata": {},
   "outputs": [],
   "source": [
    "y_preds_back = {}\n",
    "\n",
    "for level in interventions:\n",
    "    y_preds_back[level] = pd.DataFrame({}, columns = Analyzer.X_test.columns)\n",
    "\n",
    "    for g in interventions[level]:\n",
    "        temp = Analyzer.test_groups[g].copy(deep=True)\n",
    "        temp[\"y_fair\"] = y_back_fair[g]\n",
    "        y_preds_back[level] = y_preds_back[level].append(temp)"
   ]
  },
  {
   "cell_type": "code",
   "execution_count": 17,
   "id": "014ca9e3",
   "metadata": {},
   "outputs": [
    {
     "data": {
      "text/plain": [
       "((10000, 5), (10000, 5), (10000, 5), (10000, 4))"
      ]
     },
     "execution_count": 17,
     "metadata": {},
     "output_type": "execute_result"
    }
   ],
   "source": [
    "y_preds_back['SEX'].shape, y_preds_back['SES'].shape, y_preds_back['SEX_SES'].shape, Analyzer.X_test.shape"
   ]
  },
  {
   "cell_type": "code",
   "execution_count": 18,
   "id": "16a052ad",
   "metadata": {},
   "outputs": [],
   "source": [
    "y_preds_back['Control'] = {'y_fair' : pd.Series(y_preds1)}"
   ]
  },
  {
   "cell_type": "code",
   "execution_count": 19,
   "id": "79beec2c",
   "metadata": {},
   "outputs": [
    {
     "name": "stdout",
     "output_type": "stream",
     "text": [
      "SEX\n",
      "|                |   overall |   SEX_SES_priv |   SEX_SES_dis |   SEX_priv |   SEX_dis |   SES_priv |   SES_dis |\n",
      "|:---------------|----------:|---------------:|--------------:|-----------:|----------:|-----------:|----------:|\n",
      "| TPR            |  0.32282  |       0.317601 |      0.324495 |   0.321487 |  0.326476 |   0.319472 |  0.324719 |\n",
      "| TNR            |  0.684953 |       0.655172 |      0.685871 |   0.682274 |  0.687788 |   0.662577 |  0.687007 |\n",
      "| PPV            |  0.424442 |       0.843342 |      0.367143 |   0.509298 |  0.292702 |   0.745763 |  0.342147 |\n",
      "| FNR            |  0.67718  |       0.682399 |      0.675505 |   0.678513 |  0.673524 |   0.680528 |  0.675281 |\n",
      "| FPR            |  0.315047 |       0.344828 |      0.314129 |   0.317726 |  0.312212 |   0.337423 |  0.312993 |\n",
      "| Accuracy       |  0.5334   |       0.366919 |      0.555909 |   0.499587 |  0.585341 |   0.403194 |  0.566033 |\n",
      "| F1             |  0.366721 |       0.461429 |      0.344504 |   0.394164 |  0.308668 |   0.44732  |  0.333205 |\n",
      "| Selection-Rate |  0.3183   |       0.321579 |      0.317857 |   0.31963  |  0.316257 |   0.323852 |  0.316908 |\n",
      "| Positive-Rate  |  0.760573 |       0.376598 |      0.883838 |   0.631236 |  1.11538  |   0.428383 |  0.949064 |\n",
      "   \n",
      "\n",
      "SES\n",
      "|                |   overall |   SEX_SES_priv |   SEX_SES_dis |   SEX_priv |   SEX_dis |   SES_priv |   SES_dis |\n",
      "|:---------------|----------:|---------------:|--------------:|-----------:|----------:|-----------:|----------:|\n",
      "| TPR            |  0.358901 |       0.362832 |      0.357639 |   0.360613 |  0.354204 |   0.348515 |  0.364794 |\n",
      "| TNR            |  0.638521 |       0.649425 |      0.638185 |   0.639465 |  0.637522 |   0.642127 |  0.63819  |\n",
      "| PPV            |  0.416759 |       0.85814  |      0.356963 |   0.50641  |  0.278873 |   0.751067 |  0.335746 |\n",
      "| FNR            |  0.641099 |       0.637168 |      0.642361 |   0.639387 |  0.645796 |   0.651485 |  0.635206 |\n",
      "| FPR            |  0.361479 |       0.350575 |      0.361815 |   0.360535 |  0.362478 |   0.357873 |  0.36181  |\n",
      "| Accuracy       |  0.5215   |       0.404702 |      0.537291 |   0.498266 |  0.55719  |   0.42016  |  0.546898 |\n",
      "| F1             |  0.385672 |       0.510021 |      0.357301 |   0.421253 |  0.312057 |   0.476105 |  0.349668 |\n",
      "| Selection-Rate |  0.3604   |       0.361041 |      0.360313 |   0.360575 |  0.360132 |   0.350798 |  0.362806 |\n",
      "| Positive-Rate  |  0.861171 |       0.422812 |      1.00189  |   0.712097 |  1.27013  |   0.464026 |  1.08652  |\n",
      "   \n",
      "\n",
      "SEX_SES\n",
      "|                |   overall |   SEX_SES_priv |   SEX_SES_dis |   SEX_priv |   SEX_dis |   SES_priv |   SES_dis |\n",
      "|:---------------|----------:|---------------:|--------------:|-----------:|----------:|-----------:|----------:|\n",
      "| TPR            |  0.3319   |       0.3412   |      0.328914 |   0.334203 |  0.325581 |   0.338614 |  0.32809  |\n",
      "| TNR            |  0.663457 |       0.649425 |      0.663889 |   0.659866 |  0.667257 |   0.660532 |  0.663725 |\n",
      "| PPV            |  0.415123 |       0.85049  |      0.354663 |   0.501959 |  0.279141 |   0.755523 |  0.328459 |\n",
      "| FNR            |  0.6681   |       0.6588   |      0.671086 |   0.665797 |  0.674419 |   0.661386 |  0.67191  |\n",
      "| FPR            |  0.336543 |       0.350575 |      0.336111 |   0.340134 |  0.332743 |   0.339468 |  0.336275 |\n",
      "| Accuracy       |  0.5247   |       0.38623  |      0.543422 |   0.494965 |  0.570378 |   0.417166 |  0.551651 |\n",
      "| F1             |  0.368875 |       0.487018 |      0.341304 |   0.401253 |  0.300578 |   0.467639 |  0.328274 |\n",
      "| Selection-Rate |  0.3346   |       0.342569 |      0.333523 |   0.337131 |  0.330713 |   0.338822 |  0.333542 |\n",
      "| Positive-Rate  |  0.799522 |       0.40118  |      0.927399 |   0.665797 |  1.16637  |   0.448185 |  0.998876 |\n",
      "   \n",
      "\n",
      "Control\n",
      "|                |   overall |   SEX_SES_priv |   SEX_SES_dis |   SEX_priv |   SEX_dis |   SES_priv |   SES_dis |\n",
      "|:---------------|----------:|---------------:|--------------:|-----------:|----------:|-----------:|----------:|\n",
      "| TPR            |  0.73859  |       1        |      0.654672 |   0.808608 |  0.546512 |  0.955776  |  0.615356 |\n",
      "| TNR            |  0.751161 |       0        |      0.774331 |   0.616722 |  0.893451 |  0.216769  |  0.800225 |\n",
      "| PPV            |  0.681137 |       0.853904 |      0.619659 |   0.683949 |  0.669956 |  0.790825  |  0.606945 |\n",
      "| FNR            |  0.26141  |       0        |      0.345328 |   0.191392 |  0.453488 |  0.0442244 |  0.384644 |\n",
      "| FPR            |  0.248839 |       1        |      0.225669 |   0.383278 |  0.106549 |  0.783231  |  0.199775 |\n",
      "| Accuracy       |  0.7459   |       0.853904 |      0.731298 |   0.713885 |  0.79508  |  0.775449  |  0.738494 |\n",
      "| F1             |  0.708701 |       0.921196 |      0.636685 |   0.741073 |  0.60197  |  0.865511  |  0.611121 |\n",
      "| Selection-Rate |  0.4538   |       1        |      0.379952 |   0.598646 |  0.231296 |  0.913673  |  0.338544 |\n",
      "| Positive-Rate  |  1.08435  |       1.17109  |      1.0565   |   1.18226  |  0.815742 |  1.20858   |  1.01386  |\n",
      "   \n",
      "\n"
     ]
    }
   ],
   "source": [
    "res_df = {}\n",
    "for i in y_preds_back.keys():\n",
    "    res_df[i] = Analyzer.compute_metrics(y_preds_back[i]['y_fair'].values, i)\n",
    "    print(i)\n",
    "    print(pd.DataFrame(res_df[i]).to_markdown())\n",
    "    print(\"   \\n\")"
   ]
  },
  {
   "cell_type": "code",
   "execution_count": 20,
   "id": "7bae4978",
   "metadata": {},
   "outputs": [
    {
     "data": {
      "text/plain": [
       "dict_keys(['SEX', 'SES', 'SEX_SES', 'Control'])"
      ]
     },
     "execution_count": 20,
     "metadata": {},
     "output_type": "execute_result"
    }
   ],
   "source": [
    "res_df.keys()"
   ]
  },
  {
   "cell_type": "code",
   "execution_count": 21,
   "id": "1575b844",
   "metadata": {},
   "outputs": [
    {
     "data": {
      "text/plain": [
       "dict_keys(['TPR', 'TNR', 'PPV', 'FNR', 'FPR', 'Accuracy', 'F1', 'Selection-Rate', 'Positive-Rate'])"
      ]
     },
     "execution_count": 21,
     "metadata": {},
     "output_type": "execute_result"
    }
   ],
   "source": [
    "res_df['SEX']['overall'].keys()"
   ]
  },
  {
   "cell_type": "code",
   "execution_count": 22,
   "id": "10d6fcab",
   "metadata": {},
   "outputs": [],
   "source": [
    "def get_res_as_list(res_df, intervention, test_group, metric_name):\n",
    "    return res_df[intervention][test_group][metric_name]"
   ]
  },
  {
   "cell_type": "code",
   "execution_count": 23,
   "id": "6db48306",
   "metadata": {},
   "outputs": [
    {
     "data": {
      "text/plain": [
       "{'SEX': ['SEX_priv', 'SEX_dis'],\n",
       " 'SES': ['SES_priv', 'SES_dis'],\n",
       " 'SEX_SES': ['SEX_SES_priv', 'SEX_SES_dis']}"
      ]
     },
     "execution_count": 23,
     "metadata": {},
     "output_type": "execute_result"
    }
   ],
   "source": [
    "interventions"
   ]
  },
  {
   "cell_type": "code",
   "execution_count": 24,
   "id": "7e79200e",
   "metadata": {},
   "outputs": [
    {
     "data": {
      "image/png": "[encoded data removed]",
      "text/plain": [
       "<Figure size 1440x504 with 1 Axes>"
      ]
     },
     "metadata": {
      "needs_background": "light"
     },
     "output_type": "display_data"
    }
   ],
   "source": [
    "temp = pd.DataFrame({})\n",
    "for m in ['TPR', 'TNR', 'PPV', 'FNR', 'FPR', 'Accuracy', 'F1', 'Selection-Rate', 'Positive-Rate']: \n",
    "    res_m = [get_res_as_list(res_df, i, 'overall', m) for i in res_df.keys()]\n",
    "    #print(res_m)\n",
    "    temp[m] = np.array(res_m).astype(float)\n",
    "    temp[\"Intervention\"] = list(res_df.keys())\n",
    "    \n",
    "plt.rcParams[\"figure.figsize\"] = (20, 7)\n",
    "plt.rcParams[\"font.size\"] = 15\n",
    "temp.plot.bar(x=\"Intervention\", title=\"Backward Looking Substantive EO, alpha=\"+str(alpha), ylim=(0,2))\n",
    "    \n",
    "plt.show()   "
   ]
  },
  {
   "cell_type": "code",
   "execution_count": 25,
   "id": "06120ef0",
   "metadata": {},
   "outputs": [
    {
     "data": {
      "text/plain": [
       "1    5815\n",
       "0    4185\n",
       "Name: COLLEGE, dtype: int64"
      ]
     },
     "execution_count": 25,
     "metadata": {},
     "output_type": "execute_result"
    }
   ],
   "source": [
    "Analyzer.y_test.value_counts()"
   ]
  },
  {
   "cell_type": "code",
   "execution_count": 29,
   "id": "78136e1f",
   "metadata": {},
   "outputs": [
    {
     "data": {
      "text/plain": [
       "{'TPR': 0.3228195937873357,\n",
       " 'TNR': 0.6849527085124677,\n",
       " 'PPV': 0.42444234998429153,\n",
       " 'FNR': 0.6771804062126643,\n",
       " 'FPR': 0.31504729148753224,\n",
       " 'Accuracy': 0.5334,\n",
       " 'F1': 0.36672095548317046,\n",
       " 'Selection-Rate': 0.3183,\n",
       " 'Positive-Rate': 0.760573476702509}"
      ]
     },
     "execution_count": 29,
     "metadata": {},
     "output_type": "execute_result"
    }
   ],
   "source": [
    "res_df['SEX']['overall']"
   ]
  }
 ],
 "metadata": {
  "kernelspec": {
   "display_name": "Python 3 (ipykernel)",
   "language": "python",
   "name": "python3"
  },
  "language_info": {
   "codemirror_mode": {
    "name": "ipython",
    "version": 3
   },
   "file_extension": ".py",
   "mimetype": "text/x-python",
   "name": "python",
   "nbconvert_exporter": "python",
   "pygments_lexer": "ipython3",
   "version": "3.9.7"
  }
 },
 "nbformat": 4,
 "nbformat_minor": 5
}
