{
 "cells": [
  {
   "cell_type": "code",
   "execution_count": 1,
   "id": "6cc7f2e1",
   "metadata": {},
   "outputs": [],
   "source": [
    "%reload_ext autoreload\n",
    "%autoreload 2\n",
    "\n",
    "import pandas as pd\n",
    "import numpy as np\n",
    "from scipy.optimize import minimize\n",
    "import matplotlib.pyplot as plt\n",
    "from pgmpy.models import BayesianNetwork\n",
    "from pgmpy.factors.discrete import TabularCPD\n",
    "from sklearn.linear_model import LinearRegression, LogisticRegression\n",
    "from sklearn.model_selection import train_test_split\n",
    "from sklearn.preprocessing import OneHotEncoder\n",
    "import sklearn\n",
    "from sklearn.neighbors import KNeighborsClassifier\n",
    "from sklearn.model_selection import GridSearchCV\n",
    "from sklearn.tree import DecisionTreeClassifier\n",
    "from sklearn.ensemble import GradientBoostingClassifier, RandomForestClassifier\n",
    "from sklearn.model_selection import GridSearchCV\n",
    "from sklearn.neural_network import MLPClassifier\n",
    "from sklearn.tree import DecisionTreeClassifier\n",
    "from sklearn.linear_model import LogisticRegression, SGDClassifier\n",
    "from sklearn.metrics import confusion_matrix, accuracy_score\n",
    "\n",
    "from DataGenerator import *\n",
    "from Competition import *\n",
    "from config import * \n",
    "from generic_analyzer import *\n",
    "from utils.common_helpers import *"
   ]
  },
  {
   "cell_type": "code",
   "execution_count": 2,
   "id": "43a871ef",
   "metadata": {},
   "outputs": [
    {
     "data": {
      "application/vnd.jupyter.widget-view+json": {
       "model_id": "c724ab2773964452a51764498678092b",
       "version_major": 2,
       "version_minor": 0
      },
      "text/plain": [
       "  0%|          | 0/8 [00:00<?, ?it/s]"
      ]
     },
     "metadata": {},
     "output_type": "display_data"
    }
   ],
   "source": [
    "BN_EO = initialize_BN()\n",
    "dataset = BN_EO.simulate(n_samples=50000, seed=SEED)"
   ]
  },
  {
   "cell_type": "code",
   "execution_count": 3,
   "id": "b351d085",
   "metadata": {},
   "outputs": [],
   "source": [
    "C1_label = 'COLLEGE'\n",
    "C1_features = ['SES', 'SEX', 'SAT', 'SCHOOL']\n",
    "C1 = Competition(dataset, C1_features, C1_label, ['SEX', 'SES'], [0,0])"
   ]
  },
  {
   "cell_type": "code",
   "execution_count": 4,
   "id": "aa09c69b",
   "metadata": {},
   "outputs": [],
   "source": [
    "C2_label = 'INTERN'\n",
    "C2_features = ['SES', 'SEX', 'SAT', 'SCHOOL','COLLEGE','CGPA']\n",
    "C2 = Competition(dataset, C2_features, C2_label, ['SEX', 'SES'], [0,0])"
   ]
  },
  {
   "cell_type": "code",
   "execution_count": 5,
   "id": "a318311e",
   "metadata": {},
   "outputs": [],
   "source": [
    "C3_label = 'JOB'\n",
    "C3_features = ['SES', 'SEX', 'SAT', 'SCHOOL','COLLEGE','CGPA','INTERN']\n",
    "C3 = Competition(dataset, C2_features, C2_label, ['SEX', 'SES'], [0,0])"
   ]
  },
  {
   "cell_type": "code",
   "execution_count": 6,
   "id": "e023c0d2",
   "metadata": {},
   "outputs": [
    {
     "data": {
      "text/plain": [
       "((30000, 4), (10000, 4), (10000, 4))"
      ]
     },
     "execution_count": 6,
     "metadata": {},
     "output_type": "execute_result"
    }
   ],
   "source": [
    "X_train, y_train, X_test, y_test, X_val, y_val = C1.create_train_test_val_split(SEED=44)\n",
    "X_train.shape, X_test.shape, X_val.shape"
   ]
  },
  {
   "cell_type": "code",
   "execution_count": 7,
   "id": "122b3310",
   "metadata": {},
   "outputs": [],
   "source": [
    "# Using the same seed so that all contests share the same split\n",
    "__ = C2.create_train_test_val_split(SEED=44)\n",
    "__ = C3.create_train_test_val_split(SEED=44)"
   ]
  },
  {
   "cell_type": "code",
   "execution_count": 8,
   "id": "a164cafb",
   "metadata": {},
   "outputs": [],
   "source": [
    "best_model = LogisticRegression(C=1, max_iter=200, random_state=SEED, solver='newton-cg')"
   ]
  },
  {
   "cell_type": "code",
   "execution_count": 9,
   "id": "121a2001",
   "metadata": {},
   "outputs": [
    {
     "data": {
      "text/plain": [
       "0.7459"
      ]
     },
     "execution_count": 9,
     "metadata": {},
     "output_type": "execute_result"
    }
   ],
   "source": [
    "C1.fit_base_model(best_model)"
   ]
  },
  {
   "cell_type": "code",
   "execution_count": 10,
   "id": "2a42f2e0",
   "metadata": {},
   "outputs": [],
   "source": [
    "y_preds1 = C1.predict(C1.X_test)\n",
    "y_probs1 = C1.predict_proba(C1.X_test)"
   ]
  },
  {
   "cell_type": "code",
   "execution_count": 11,
   "id": "5137f49c",
   "metadata": {},
   "outputs": [
    {
     "name": "stdout",
     "output_type": "stream",
     "text": [
      "SEX_SES_priv 0.1191\n",
      "SEX_SES_dis 0.8809\n",
      "SEX_priv 0.6057\n",
      "SEX_dis 0.3943\n",
      "SES_priv 0.2004\n",
      "SES_dis 0.7996\n"
     ]
    }
   ],
   "source": [
    "Analyzer = GenericAnalyzer(C1.X_test, C1.y_test, ['SEX','SES'], [0, 0])\n",
    "\n",
    "for i in Analyzer.test_groups.keys():\n",
    "    print(i, Analyzer.test_groups[i].shape[0]/Analyzer.X_test.shape[0])"
   ]
  },
  {
   "cell_type": "code",
   "execution_count": 12,
   "id": "aaa02909",
   "metadata": {},
   "outputs": [
    {
     "name": "stdout",
     "output_type": "stream",
     "text": [
      "|                |   overall |   SEX_SES_priv |   SEX_SES_dis |   SEX_priv |   SEX_dis |   SES_priv |   SES_dis |\n",
      "|:---------------|----------:|---------------:|--------------:|-----------:|----------:|-----------:|----------:|\n",
      "| TPR            |  0.73859  |       1        |      0.654672 |   0.808608 |  0.546512 |  0.955776  |  0.615356 |\n",
      "| TNR            |  0.751161 |       0        |      0.774331 |   0.616722 |  0.893451 |  0.216769  |  0.800225 |\n",
      "| PPV            |  0.681137 |       0.853904 |      0.619659 |   0.683949 |  0.669956 |  0.790825  |  0.606945 |\n",
      "| FNR            |  0.26141  |       0        |      0.345328 |   0.191392 |  0.453488 |  0.0442244 |  0.384644 |\n",
      "| FPR            |  0.248839 |       1        |      0.225669 |   0.383278 |  0.106549 |  0.783231  |  0.199775 |\n",
      "| Accuracy       |  0.7459   |       0.853904 |      0.731298 |   0.713885 |  0.79508  |  0.775449  |  0.738494 |\n",
      "| F1             |  0.708701 |       0.921196 |      0.636685 |   0.741073 |  0.60197  |  0.865511  |  0.611121 |\n",
      "| Selection-Rate |  0.4538   |       1        |      0.379952 |   0.598646 |  0.231296 |  0.913673  |  0.338544 |\n",
      "| Positive-Rate  |  1.08435  |       1.17109  |      1.0565   |   1.18226  |  0.815742 |  1.20858   |  1.01386  |\n"
     ]
    }
   ],
   "source": [
    "c1_res = Analyzer.compute_metrics(y_preds1, 'Base_Model')\n",
    "print(pd.DataFrame(c1_res).to_markdown())"
   ]
  },
  {
   "cell_type": "code",
   "execution_count": 13,
   "id": "b95ce9c4",
   "metadata": {},
   "outputs": [],
   "source": [
    "def find_q_val(y, alpha):\n",
    "    n = len(y)\n",
    "    #alpha_corrected = ((n+1)*(1-alpha))/n\n",
    "    #pos = int(round(alpha_corrected*n))\n",
    "    \n",
    "    q_level = np.ceil((n+1)*(1-alpha))/n\n",
    "    qhat = np.quantile(y, q_level, interpolation='higher')\n",
    "    #return np.sort(y)[pos]\n",
    "    return qhat"
   ]
  },
  {
   "cell_type": "code",
   "execution_count": 14,
   "id": "31e5fd19",
   "metadata": {},
   "outputs": [
    {
     "data": {
      "text/plain": [
       "array([0.85696259, 0.85696259, 0.14303741, ..., 0.85696259, 0.85696259,\n",
       "       0.85696259])"
      ]
     },
     "execution_count": 14,
     "metadata": {},
     "output_type": "execute_result"
    }
   ],
   "source": [
    "C1.predict_proba(Analyzer.X_test)[Analyzer.y_test.shape[0]-1, Analyzer.y_test.values]"
   ]
  },
  {
   "cell_type": "code",
   "execution_count": 34,
   "id": "372db3b5",
   "metadata": {},
   "outputs": [
    {
     "name": "stdout",
     "output_type": "stream",
     "text": [
      "Overall  0.14303741072847553\n",
      "SEX_SES_priv 0.8982061694428987\n",
      "SEX_SES_dis 0.8569625892715245\n",
      "SEX_priv 0.14303741072847553\n",
      "SEX_dis 0.8303263027211945\n",
      "SES_priv 0.8982061694428987\n",
      "SES_dis 0.8569625892715245\n"
     ]
    }
   ],
   "source": [
    "alpha = 0.59\n",
    "q_vals = {}\n",
    "y_back_fair = {}\n",
    "\n",
    "y_probs = C1.predict_proba(Analyzer.X_test)[Analyzer.y_test.shape[0]-1, Analyzer.y_test.values]\n",
    "print(\"Overall \", find_q_val(y_probs, alpha))\n",
    "\n",
    "for g in Analyzer.test_groups.keys():\n",
    "    y_probs = C1.predict_proba(Analyzer.test_groups[g])[Analyzer.test_groups[g].shape[0]-1, Analyzer.y_test[Analyzer.test_groups[g].index].values]\n",
    "    q_vals[g] = find_q_val(y_probs, alpha)\n",
    "    y_back_fair[g] = np.array([int(y__ > q_vals[g]) for y__ in y_probs])\n",
    "    \n",
    "    print(g, q_vals[g])\n",
    "    "
   ]
  },
  {
   "cell_type": "code",
   "execution_count": 16,
   "id": "c5a46a22",
   "metadata": {},
   "outputs": [],
   "source": [
    "interventions = {\n",
    "    \"SEX\": ['SEX_priv', 'SEX_dis'],\n",
    "    \"SES\": ['SES_priv', 'SES_dis'],\n",
    "    \"SEX_SES\" : ['SEX_SES_priv', 'SEX_SES_dis']\n",
    "}"
   ]
  },
  {
   "cell_type": "code",
   "execution_count": 17,
   "id": "df2d3420",
   "metadata": {},
   "outputs": [],
   "source": [
    "y_preds_back = {}\n",
    "\n",
    "for level in interventions:\n",
    "    y_preds_back[level] = pd.DataFrame({}, columns = Analyzer.X_test.columns)\n",
    "\n",
    "    for g in interventions[level]:\n",
    "        temp = Analyzer.test_groups[g].copy(deep=True)\n",
    "        temp[\"y_fair\"] = y_back_fair[g]\n",
    "        y_preds_back[level] = y_preds_back[level].append(temp)"
   ]
  },
  {
   "cell_type": "code",
   "execution_count": 18,
   "id": "014ca9e3",
   "metadata": {},
   "outputs": [
    {
     "data": {
      "text/plain": [
       "((10000, 5), (10000, 5), (10000, 5), (10000, 4))"
      ]
     },
     "execution_count": 18,
     "metadata": {},
     "output_type": "execute_result"
    }
   ],
   "source": [
    "y_preds_back['SEX'].shape, y_preds_back['SES'].shape, y_preds_back['SEX_SES'].shape, Analyzer.X_test.shape"
   ]
  },
  {
   "cell_type": "code",
   "execution_count": 19,
   "id": "16a052ad",
   "metadata": {},
   "outputs": [],
   "source": [
    "y_preds_back['Control'] = {'y_fair' : pd.Series(y_preds1)}"
   ]
  },
  {
   "cell_type": "code",
   "execution_count": 20,
   "id": "79beec2c",
   "metadata": {},
   "outputs": [
    {
     "name": "stdout",
     "output_type": "stream",
     "text": [
      "SEX\n",
      "|                |   overall |   SEX_SES_priv |   SEX_SES_dis |   SEX_priv |   SEX_dis |   SES_priv |   SES_dis |\n",
      "|:---------------|----------:|---------------:|--------------:|-----------:|----------:|-----------:|----------:|\n",
      "| TPR            |  0.701314 |       0.716814 |      0.696338 |   0.698402 |  0.709302 |   0.712211 |  0.695131 |\n",
      "| TNR            |  0.299226 |       0.356322 |      0.297465 |   0.308027 |  0.289912 |   0.308793 |  0.298348 |\n",
      "| PPV            |  0.418688 |       0.866825 |      0.357594 |   0.508668 |  0.283315 |   0.761468 |  0.331843 |\n",
      "| FNR            |  0.298686 |       0.283186 |      0.303662 |   0.301598 |  0.290698 |   0.287789 |  0.304869 |\n",
      "| FPR            |  0.700774 |       0.643678 |      0.702535 |   0.691973 |  0.710088 |   0.691207 |  0.701652 |\n",
      "| Accuracy       |  0.4675   |       0.664148 |      0.440913 |   0.505696 |  0.408826 |   0.613772 |  0.43084  |\n",
      "| F1             |  0.524341 |       0.784715 |      0.472529 |   0.588623 |  0.404902 |   0.736016 |  0.449232 |\n",
      "| Selection-Rate |  0.701    |       0.706129 |      0.700307 |   0.695229 |  0.709866 |   0.707086 |  0.699475 |\n",
      "| Positive-Rate  |  1.67503  |       0.826942 |      1.94729  |   1.373    |  2.50358  |   0.935314 |  2.09476  |\n",
      "   \n",
      "\n",
      "SES\n",
      "|                |   overall |   SEX_SES_priv |   SEX_SES_dis |   SEX_priv |   SEX_dis |   SES_priv |   SES_dis |\n",
      "|:---------------|----------:|---------------:|--------------:|-----------:|----------:|-----------:|----------:|\n",
      "| TPR            |  0.472401 |       0.441495 |      0.482323 |   0.473753 |  0.468694 |   0.442904 |  0.489139 |\n",
      "| TNR            |  0.536199 |       0.517241 |      0.536784 |   0.535786 |  0.536637 |   0.519427 |  0.537739 |\n",
      "| PPV            |  0.422978 |       0.842402 |      0.368993 |   0.51144  |  0.28587  |   0.740618 |  0.346603 |\n",
      "| FNR            |  0.527599 |       0.558505 |      0.517677 |   0.526247 |  0.531306 |   0.557096 |  0.510861 |\n",
      "| FPR            |  0.463801 |       0.482759 |      0.463216 |   0.464214 |  0.463363 |   0.480573 |  0.462261 |\n",
      "| Accuracy       |  0.5095   |       0.452561 |      0.517198 |   0.504375 |  0.517373 |   0.461577 |  0.521511 |\n",
      "| F1             |  0.446326 |       0.579355 |      0.418115 |   0.491875 |  0.355134 |   0.554316 |  0.405716 |\n",
      "| Selection-Rate |  0.4674   |       0.447523 |      0.470087 |   0.469044 |  0.464874 |   0.452096 |  0.471236 |\n",
      "| Positive-Rate  |  1.11685  |       0.52409  |      1.30713  |   0.926312 |  1.63953  |   0.59802  |  1.41124  |\n",
      "   \n",
      "\n",
      "SEX_SES\n",
      "|                |   overall |   SEX_SES_priv |   SEX_SES_dis |   SEX_priv |   SEX_dis |   SES_priv |   SES_dis |\n",
      "|:---------------|----------:|---------------:|--------------:|-----------:|----------:|-----------:|----------:|\n",
      "| TPR            |  0.43632  |       0.420846 |      0.441288 |   0.426801 |  0.462433 |   0.434323 |  0.437453 |\n",
      "| TNR            |  0.564402 |       0.563218 |      0.564439 |   0.552508 |  0.576991 |   0.568507 |  0.564026 |\n",
      "| PPV            |  0.418903 |       0.849206 |      0.362646 |   0.494522 |  0.301986 |   0.757192 |  0.33467  |\n",
      "| FNR            |  0.56368  |       0.579154 |      0.558712 |   0.573199 |  0.537567 |   0.565677 |  0.562547 |\n",
      "| FPR            |  0.435598 |       0.436782 |      0.435561 |   0.447492 |  0.423009 |   0.431493 |  0.435974 |\n",
      "| Accuracy       |  0.5108   |       0.441646 |      0.52015  |   0.488856 |  0.544509 |   0.467066 |  0.521761 |\n",
      "| F1             |  0.427434 |       0.562788 |      0.39812  |   0.458173 |  0.365371 |   0.552013 |  0.379221 |\n",
      "| Selection-Rate |  0.4359   |       0.423174 |      0.437621 |   0.437015 |  0.434187 |   0.433633 |  0.436468 |\n",
      "| Positive-Rate  |  1.04158  |       0.495575 |      1.21686  |   0.863058 |  1.53131  |   0.573597 |  1.30712  |\n",
      "   \n",
      "\n",
      "Control\n",
      "|                |   overall |   SEX_SES_priv |   SEX_SES_dis |   SEX_priv |   SEX_dis |   SES_priv |   SES_dis |\n",
      "|:---------------|----------:|---------------:|--------------:|-----------:|----------:|-----------:|----------:|\n",
      "| TPR            |  0.73859  |       1        |      0.654672 |   0.808608 |  0.546512 |  0.955776  |  0.615356 |\n",
      "| TNR            |  0.751161 |       0        |      0.774331 |   0.616722 |  0.893451 |  0.216769  |  0.800225 |\n",
      "| PPV            |  0.681137 |       0.853904 |      0.619659 |   0.683949 |  0.669956 |  0.790825  |  0.606945 |\n",
      "| FNR            |  0.26141  |       0        |      0.345328 |   0.191392 |  0.453488 |  0.0442244 |  0.384644 |\n",
      "| FPR            |  0.248839 |       1        |      0.225669 |   0.383278 |  0.106549 |  0.783231  |  0.199775 |\n",
      "| Accuracy       |  0.7459   |       0.853904 |      0.731298 |   0.713885 |  0.79508  |  0.775449  |  0.738494 |\n",
      "| F1             |  0.708701 |       0.921196 |      0.636685 |   0.741073 |  0.60197  |  0.865511  |  0.611121 |\n",
      "| Selection-Rate |  0.4538   |       1        |      0.379952 |   0.598646 |  0.231296 |  0.913673  |  0.338544 |\n",
      "| Positive-Rate  |  1.08435  |       1.17109  |      1.0565   |   1.18226  |  0.815742 |  1.20858   |  1.01386  |\n",
      "   \n",
      "\n"
     ]
    }
   ],
   "source": [
    "res_df = {}\n",
    "for i in y_preds_back.keys():\n",
    "    res_df[i] = Analyzer.compute_metrics(y_preds_back[i]['y_fair'].values, i)\n",
    "    print(i)\n",
    "    print(pd.DataFrame(res_df[i]).to_markdown())\n",
    "    print(\"   \\n\")"
   ]
  },
  {
   "cell_type": "code",
   "execution_count": 21,
   "id": "7bae4978",
   "metadata": {},
   "outputs": [
    {
     "data": {
      "text/plain": [
       "dict_keys(['SEX', 'SES', 'SEX_SES', 'Control'])"
      ]
     },
     "execution_count": 21,
     "metadata": {},
     "output_type": "execute_result"
    }
   ],
   "source": [
    "res_df.keys()"
   ]
  },
  {
   "cell_type": "code",
   "execution_count": 22,
   "id": "1575b844",
   "metadata": {},
   "outputs": [
    {
     "data": {
      "text/plain": [
       "dict_keys(['TPR', 'TNR', 'PPV', 'FNR', 'FPR', 'Accuracy', 'F1', 'Selection-Rate', 'Positive-Rate'])"
      ]
     },
     "execution_count": 22,
     "metadata": {},
     "output_type": "execute_result"
    }
   ],
   "source": [
    "res_df['SEX']['overall'].keys()"
   ]
  },
  {
   "cell_type": "code",
   "execution_count": 23,
   "id": "10d6fcab",
   "metadata": {},
   "outputs": [],
   "source": [
    "def get_res_as_list(res_df, intervention, test_group, metric_name):\n",
    "    return res_df[intervention][test_group][metric_name]"
   ]
  },
  {
   "cell_type": "code",
   "execution_count": 24,
   "id": "6db48306",
   "metadata": {},
   "outputs": [
    {
     "data": {
      "text/plain": [
       "{'SEX': ['SEX_priv', 'SEX_dis'],\n",
       " 'SES': ['SES_priv', 'SES_dis'],\n",
       " 'SEX_SES': ['SEX_SES_priv', 'SEX_SES_dis']}"
      ]
     },
     "execution_count": 24,
     "metadata": {},
     "output_type": "execute_result"
    }
   ],
   "source": [
    "interventions"
   ]
  },
  {
   "cell_type": "code",
   "execution_count": 25,
   "id": "7e79200e",
   "metadata": {},
   "outputs": [
    {
     "data": {
      "image/png": "[encoded data removed]",
      "text/plain": [
       "<Figure size 1440x504 with 1 Axes>"
      ]
     },
     "metadata": {
      "needs_background": "light"
     },
     "output_type": "display_data"
    }
   ],
   "source": [
    "temp = pd.DataFrame({})\n",
    "for m in ['TPR', 'TNR', 'PPV', 'FNR', 'FPR', 'Accuracy', 'F1', 'Selection-Rate']: \n",
    "#for m in ['TPR', 'TNR', 'PPV', 'FNR', 'FPR', 'Accuracy', 'F1', 'Selection-Rate', 'Positive-Rate']: \n",
    "    #res_m = [get_res_as_list(res_df, i, 'overall', m) for i in res_df.keys()]\n",
    "    res_priv = [get_res_as_list(res_df, i, 'SEX_priv', m) for i in res_df.keys()]\n",
    "    res_dis = [get_res_as_list(res_df, i, 'SEX_dis', m) for i in res_df.keys()]\n",
    "    res_m = np.subtract(res_priv,res_dis)\n",
    "    #print(res_m)\n",
    "    temp[m] = np.array(res_m).astype(float)\n",
    "    temp[\"Intervention\"] = list(res_df.keys())\n",
    "    \n",
    "plt.rcParams[\"figure.figsize\"] = (20, 7)\n",
    "plt.rcParams[\"font.size\"] = 15\n",
    "#temp.plot.bar(x=\"Intervention\", title=\"Backward Looking Substantive EO, alpha=\"+str(alpha), ylim=(0,2))\n",
    "temp.plot.bar(x=\"Intervention\", title=\"Backward Looking Substantive EO, alpha=\"+str(alpha))\n",
    "    \n",
    "plt.show()   "
   ]
  },
  {
   "cell_type": "code",
   "execution_count": 26,
   "id": "44fa2fdf",
   "metadata": {},
   "outputs": [
    {
     "data": {
      "image/png": "[encoded data removed]",
      "text/plain": [
       "<Figure size 1440x504 with 1 Axes>"
      ]
     },
     "metadata": {
      "needs_background": "light"
     },
     "output_type": "display_data"
    }
   ],
   "source": [
    "temp = pd.DataFrame({})\n",
    "for m in ['TPR', 'TNR', 'PPV', 'FNR', 'FPR', 'Accuracy', 'F1', 'Selection-Rate']: \n",
    "#for m in ['TPR', 'TNR', 'PPV', 'FNR', 'FPR', 'Accuracy', 'F1', 'Selection-Rate', 'Positive-Rate']: \n",
    "    #res_m = [get_res_as_list(res_df, i, 'overall', m) for i in res_df.keys()]\n",
    "    res_priv = [get_res_as_list(res_df, i, 'SES_priv', m) for i in res_df.keys()]\n",
    "    res_dis = [get_res_as_list(res_df, i, 'SES_dis', m) for i in res_df.keys()]\n",
    "    res_m = np.subtract(res_priv,res_dis)\n",
    "    #print(res_m)\n",
    "    temp[m] = np.array(res_m).astype(float)\n",
    "    temp[\"Intervention\"] = list(res_df.keys())\n",
    "    \n",
    "plt.rcParams[\"figure.figsize\"] = (20, 7)\n",
    "plt.rcParams[\"font.size\"] = 15\n",
    "#temp.plot.bar(x=\"Intervention\", title=\"Backward Looking Substantive EO, alpha=\"+str(alpha), ylim=(0,2))\n",
    "temp.plot.bar(x=\"Intervention\", title=\"Backward Looking Substantive EO, alpha=\"+str(alpha))\n",
    "    \n",
    "plt.show()   "
   ]
  },
  {
   "cell_type": "code",
   "execution_count": 27,
   "id": "553d3395",
   "metadata": {},
   "outputs": [
    {
     "data": {
      "image/png": "[encoded data removed]",
      "text/plain": [
       "<Figure size 1440x504 with 1 Axes>"
      ]
     },
     "metadata": {
      "needs_background": "light"
     },
     "output_type": "display_data"
    }
   ],
   "source": [
    "temp = pd.DataFrame({})\n",
    "for m in ['TPR', 'TNR', 'PPV', 'FNR', 'FPR', 'Accuracy', 'F1', 'Selection-Rate']: \n",
    "#for m in ['TPR', 'TNR', 'PPV', 'FNR', 'FPR', 'Accuracy', 'F1', 'Selection-Rate', 'Positive-Rate']: \n",
    "    #res_m = [get_res_as_list(res_df, i, 'overall', m) for i in res_df.keys()]\n",
    "    res_priv = [get_res_as_list(res_df, i, 'SEX_SES_priv', m) for i in res_df.keys()]\n",
    "    res_dis = [get_res_as_list(res_df, i, 'SEX_SES_dis', m) for i in res_df.keys()]\n",
    "    res_m = np.subtract(res_priv,res_dis)\n",
    "    #print(res_m)\n",
    "    temp[m] = np.array(res_m).astype(float)\n",
    "    temp[\"Intervention\"] = list(res_df.keys())\n",
    "    \n",
    "plt.rcParams[\"figure.figsize\"] = (20, 7)\n",
    "plt.rcParams[\"font.size\"] = 15\n",
    "#temp.plot.bar(x=\"Intervention\", title=\"Backward Looking Substantive EO, alpha=\"+str(alpha), ylim=(0,2))\n",
    "temp.plot.bar(x=\"Intervention\", title=\"Backward Looking Substantive EO, alpha=\"+str(alpha))\n",
    "    \n",
    "plt.show()   "
   ]
  },
  {
   "cell_type": "code",
   "execution_count": null,
   "id": "082cbf6e",
   "metadata": {},
   "outputs": [],
   "source": []
  },
  {
   "cell_type": "code",
   "execution_count": 28,
   "id": "8eca6e50",
   "metadata": {},
   "outputs": [
    {
     "ename": "NameError",
     "evalue": "name 'cal_smx' is not defined",
     "output_type": "error",
     "traceback": [
      "\u001b[0;31m---------------------------------------------------------------------------\u001b[0m",
      "\u001b[0;31mNameError\u001b[0m                                 Traceback (most recent call last)",
      "\u001b[0;32m/var/folders/hv/l0r_7qdd1klgjs1kp27qyjqc0000gn/T/ipykernel_26694/2726236595.py\u001b[0m in \u001b[0;36m<module>\u001b[0;34m\u001b[0m\n\u001b[0;32m----> 1\u001b[0;31m \u001b[0mcal_scores\u001b[0m \u001b[0;34m=\u001b[0m \u001b[0;36m1\u001b[0m\u001b[0;34m-\u001b[0m\u001b[0mcal_smx\u001b[0m\u001b[0;34m[\u001b[0m\u001b[0mnp\u001b[0m\u001b[0;34m.\u001b[0m\u001b[0marange\u001b[0m\u001b[0;34m(\u001b[0m\u001b[0mn\u001b[0m\u001b[0;34m)\u001b[0m\u001b[0;34m,\u001b[0m\u001b[0mcal_labels\u001b[0m\u001b[0;34m]\u001b[0m\u001b[0;34m\u001b[0m\u001b[0;34m\u001b[0m\u001b[0m\n\u001b[0m\u001b[1;32m      2\u001b[0m \u001b[0;31m# 2: get adjusted quantile\u001b[0m\u001b[0;34m\u001b[0m\u001b[0;34m\u001b[0m\u001b[0m\n\u001b[1;32m      3\u001b[0m \u001b[0mq_level\u001b[0m \u001b[0;34m=\u001b[0m \u001b[0mnp\u001b[0m\u001b[0;34m.\u001b[0m\u001b[0mceil\u001b[0m\u001b[0;34m(\u001b[0m\u001b[0;34m(\u001b[0m\u001b[0mn\u001b[0m\u001b[0;34m+\u001b[0m\u001b[0;36m1\u001b[0m\u001b[0;34m)\u001b[0m\u001b[0;34m*\u001b[0m\u001b[0;34m(\u001b[0m\u001b[0;36m1\u001b[0m\u001b[0;34m-\u001b[0m\u001b[0malpha\u001b[0m\u001b[0;34m)\u001b[0m\u001b[0;34m)\u001b[0m\u001b[0;34m/\u001b[0m\u001b[0mn\u001b[0m\u001b[0;34m\u001b[0m\u001b[0;34m\u001b[0m\u001b[0m\n\u001b[1;32m      4\u001b[0m \u001b[0mqhat\u001b[0m \u001b[0;34m=\u001b[0m \u001b[0mnp\u001b[0m\u001b[0;34m.\u001b[0m\u001b[0mquantile\u001b[0m\u001b[0;34m(\u001b[0m\u001b[0mcal_scores\u001b[0m\u001b[0;34m,\u001b[0m \u001b[0mq_level\u001b[0m\u001b[0;34m,\u001b[0m \u001b[0minterpolation\u001b[0m\u001b[0;34m=\u001b[0m\u001b[0;34m'higher'\u001b[0m\u001b[0;34m)\u001b[0m\u001b[0;34m\u001b[0m\u001b[0;34m\u001b[0m\u001b[0m\n\u001b[1;32m      5\u001b[0m \u001b[0mprediction_sets\u001b[0m \u001b[0;34m=\u001b[0m \u001b[0mval_smx\u001b[0m \u001b[0;34m>=\u001b[0m \u001b[0;34m(\u001b[0m\u001b[0;36m1\u001b[0m\u001b[0;34m-\u001b[0m\u001b[0mqhat\u001b[0m\u001b[0;34m)\u001b[0m \u001b[0;31m# 3: form prediction sets\u001b[0m\u001b[0;34m\u001b[0m\u001b[0;34m\u001b[0m\u001b[0m\n",
      "\u001b[0;31mNameError\u001b[0m: name 'cal_smx' is not defined"
     ]
    }
   ],
   "source": [
    "cal_scores = 1-cal_smx[np.arange(n),cal_labels]\n",
    "# 2: get adjusted quantile\n",
    "q_level = np.ceil((n+1)*(1-alpha))/n\n",
    "qhat = np.quantile(cal_scores, q_level, interpolation='higher')\n",
    "prediction_sets = val_smx >= (1-qhat) # 3: form prediction sets"
   ]
  },
  {
   "cell_type": "code",
   "execution_count": null,
   "id": "06120ef0",
   "metadata": {},
   "outputs": [],
   "source": [
    "Analyzer.y_test.value_counts()"
   ]
  }
 ],
 "metadata": {
  "kernelspec": {
   "display_name": "Python 3 (ipykernel)",
   "language": "python",
   "name": "python3"
  },
  "language_info": {
   "codemirror_mode": {
    "name": "ipython",
    "version": 3
   },
   "file_extension": ".py",
   "mimetype": "text/x-python",
   "name": "python",
   "nbconvert_exporter": "python",
   "pygments_lexer": "ipython3",
   "version": "3.9.7"
  }
 },
 "nbformat": 4,
 "nbformat_minor": 5
}
